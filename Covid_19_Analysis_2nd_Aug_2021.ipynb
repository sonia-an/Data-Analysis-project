{
  "nbformat": 4,
  "nbformat_minor": 0,
  "metadata": {
    "colab": {
      "name": "Covid 19 Analysis-2nd Aug 2021.ipynb",
      "provenance": [],
      "collapsed_sections": [],
      "mount_file_id": "1VqvBfh5d34Jsg4Hc76aUxes9XnI2inre",
      "authorship_tag": "ABX9TyNBJnR2roCEa4u6RHtO6Zuv",
      "include_colab_link": true
    },
    "kernelspec": {
      "name": "python3",
      "display_name": "Python 3"
    },
    "language_info": {
      "name": "python"
    }
  },
  "cells": [
    {
      "cell_type": "markdown",
      "metadata": {
        "id": "view-in-github",
        "colab_type": "text"
      },
      "source": [
        "<a href=\"https://colab.research.google.com/github/sonia-an/Data-Analysis-project/blob/main/Covid_19_Analysis_2nd_Aug_2021.ipynb\" target=\"_parent\"><img src=\"https://colab.research.google.com/assets/colab-badge.svg\" alt=\"Open In Colab\"/></a>"
      ]
    },
    {
      "cell_type": "markdown",
      "metadata": {
        "id": "6xCUZNJE1BpL"
      },
      "source": [
        "#Analysis of recent Covid 19 cases \n",
        "COVID-19 country spread daily data into a Pandas DataFrame. Here I'm using dataset of 2nd August 2021.\n",
        "\n",
        "## Analysis includes\n",
        "\n",
        "1. Data acquisition: Scrape the COVID19 dataset and preparing it for the analysis \n",
        "2. Data cleaning:  is done by dropping columns, replace null values and special characters.\n",
        "3. EDA: Overall analysis of the dataset and Visualizing analysis."
      ]
    },
    {
      "cell_type": "markdown",
      "metadata": {
        "id": "zV-ed8Ad79Pm"
      },
      "source": [
        "\n",
        "#Data Acquisition\n",
        " * Web scraping: The data present in this analysis scraped from the website worldometer. "
      ]
    },
    {
      "cell_type": "code",
      "metadata": {
        "id": "yS5F0xIdCzR0"
      },
      "source": [
        "# Import the following libraries:\n",
        "import requests\n",
        "from bs4 import BeautifulSoup\n",
        "import pandas as pd\n",
        "from datetime import date,datetime\n",
        "import numpy as np\n",
        "import matplotlib.pyplot as plt \n",
        "import seaborn as sns\n",
        "import plotly.express as px\n",
        "#import plotly.graph_objects as go"
      ],
      "execution_count": null,
      "outputs": []
    },
    {
      "cell_type": "code",
      "metadata": {
        "id": "Tv3zeYfSC_Yc"
      },
      "source": [
        "url='https://www.worldometers.info/coronavirus/#countries'\n",
        "req=requests.get(url)\n",
        "soup=BeautifulSoup(req.text,'html')"
      ],
      "execution_count": null,
      "outputs": []
    },
    {
      "cell_type": "code",
      "metadata": {
        "id": "9xAEi_sCDLH7"
      },
      "source": [
        "table=soup.findAll(\"table\",{\"id\":\"main_table_countries_today\"})\n",
        "containers=table[0].findAll(\"tr\",{\"style\":\"\"})\n",
        "title=containers[0]\n",
        "del containers[0]\n",
        "for country in containers:\n",
        "  country_data=[]\n",
        "  country_container=country.findAll('td')#parsing the data\n",
        " "
      ],
      "execution_count": null,
      "outputs": []
    },
    {
      "cell_type": "code",
      "metadata": {
        "id": "LEKwbY_aDOLG"
      },
      "source": [
        "all_data=[]\n",
        "clean=True\n",
        "for country in containers:\n",
        "  country_data=[]\n",
        "  country_container=country.findAll('td')#parsing the data\n",
        "  for i in range(1,len(country_container)):\n",
        "    final_data=country_container[i].text\n",
        "    if clean:\n",
        "      if final_data.find('+')!=-1:\n",
        "        final_data=final_data.replace(\"+\",\"\")  #wherever + which will replace into empty \n",
        "   \n",
        "      if final_data.find('-')!=-1:\n",
        "          final_data=final_data.replace(\"-\",\"\")  #wherever - which will replace into empty \n",
        "          \n",
        "      if  final_data.find(',')!=-1:\n",
        "        final_data=final_data.replace(\",\",\"\")\n",
        "    country_data.append(final_data)\n",
        "    \n",
        "all_data.append(country_data)\n"
      ],
      "execution_count": null,
      "outputs": []
    },
    {
      "cell_type": "markdown",
      "metadata": {
        "id": "pGXCe9u79itl"
      },
      "source": [
        "##Create a dataframe"
      ]
    },
    {
      "cell_type": "code",
      "metadata": {
        "id": "mf8WAzMdnMWG",
        "colab": {
          "base_uri": "https://localhost:8080/",
          "height": 80
        },
        "outputId": "66f10333-45f7-4c2d-ac2f-fbf5d775bb65"
      },
      "source": [
        "# Create the dataframe\n",
        "data=pd.DataFrame(all_data)\n",
        "data.head()"
      ],
      "execution_count": null,
      "outputs": [
        {
          "output_type": "execute_result",
          "data": {
            "text/html": [
              "<div>\n",
              "<style scoped>\n",
              "    .dataframe tbody tr th:only-of-type {\n",
              "        vertical-align: middle;\n",
              "    }\n",
              "\n",
              "    .dataframe tbody tr th {\n",
              "        vertical-align: top;\n",
              "    }\n",
              "\n",
              "    .dataframe thead th {\n",
              "        text-align: right;\n",
              "    }\n",
              "</style>\n",
              "<table border=\"1\" class=\"dataframe\">\n",
              "  <thead>\n",
              "    <tr style=\"text-align: right;\">\n",
              "      <th></th>\n",
              "      <th>0</th>\n",
              "      <th>1</th>\n",
              "      <th>2</th>\n",
              "      <th>3</th>\n",
              "      <th>4</th>\n",
              "      <th>5</th>\n",
              "      <th>6</th>\n",
              "      <th>7</th>\n",
              "      <th>8</th>\n",
              "      <th>9</th>\n",
              "      <th>10</th>\n",
              "      <th>11</th>\n",
              "      <th>12</th>\n",
              "      <th>13</th>\n",
              "      <th>14</th>\n",
              "      <th>15</th>\n",
              "      <th>16</th>\n",
              "      <th>17</th>\n",
              "      <th>18</th>\n",
              "      <th>19</th>\n",
              "      <th>20</th>\n",
              "    </tr>\n",
              "  </thead>\n",
              "  <tbody>\n",
              "    <tr>\n",
              "      <th>0</th>\n",
              "      <td>Total:</td>\n",
              "      <td>200903699</td>\n",
              "      <td>656905</td>\n",
              "      <td>4268443</td>\n",
              "      <td>9529</td>\n",
              "      <td>180884011</td>\n",
              "      <td>371469</td>\n",
              "      <td>15751245</td>\n",
              "      <td>93468</td>\n",
              "      <td>25774.1</td>\n",
              "      <td>547.6</td>\n",
              "      <td></td>\n",
              "      <td></td>\n",
              "      <td></td>\n",
              "      <td>All</td>\n",
              "      <td>\\n</td>\n",
              "      <td></td>\n",
              "      <td></td>\n",
              "      <td></td>\n",
              "      <td></td>\n",
              "      <td></td>\n",
              "    </tr>\n",
              "  </tbody>\n",
              "</table>\n",
              "</div>"
            ],
            "text/plain": [
              "       0          1       2        3     4          5   ...  15 16 17 18 19 20\n",
              "0  Total:  200903699  656905  4268443  9529  180884011  ...  \\n               \n",
              "\n",
              "[1 rows x 21 columns]"
            ]
          },
          "metadata": {
            "tags": []
          },
          "execution_count": 64
        }
      ]
    },
    {
      "cell_type": "markdown",
      "metadata": {
        "id": "P1uPpEEq9m5H"
      },
      "source": [
        "#Data manipulation"
      ]
    },
    {
      "cell_type": "markdown",
      "metadata": {
        "id": "_AOp8qSL0Z5J"
      },
      "source": [
        "Drop the unnecessary columns that are not required:"
      ]
    },
    {
      "cell_type": "code",
      "metadata": {
        "id": "0w22TOTTEW5f"
      },
      "source": [
        "data.drop([15,16,17,18,19,20],inplace=True,axis=1)\n"
      ],
      "execution_count": null,
      "outputs": []
    },
    {
      "cell_type": "code",
      "metadata": {
        "id": "wdui810gElO8"
      },
      "source": [
        "#Add the column names\n",
        "Column_labels=['Country','Total cases', 'New cases','Total Deaths','New Deaths','Total recovered','New recovered','Active cases','Serious/critical','Total cases/1M','Death/1M','Total tests','Test/1M','Population','Continent']\n",
        "data.columns=Column_labels"
      ],
      "execution_count": null,
      "outputs": []
    },
    {
      "cell_type": "code",
      "metadata": {
        "colab": {
          "base_uri": "https://localhost:8080/",
          "height": 97
        },
        "id": "sbKx2uIyaW00",
        "outputId": "9d10ba53-4f9d-4616-f374-57246a3d31a1"
      },
      "source": [
        "data.head(10)"
      ],
      "execution_count": null,
      "outputs": [
        {
          "output_type": "execute_result",
          "data": {
            "text/html": [
              "<div>\n",
              "<style scoped>\n",
              "    .dataframe tbody tr th:only-of-type {\n",
              "        vertical-align: middle;\n",
              "    }\n",
              "\n",
              "    .dataframe tbody tr th {\n",
              "        vertical-align: top;\n",
              "    }\n",
              "\n",
              "    .dataframe thead th {\n",
              "        text-align: right;\n",
              "    }\n",
              "</style>\n",
              "<table border=\"1\" class=\"dataframe\">\n",
              "  <thead>\n",
              "    <tr style=\"text-align: right;\">\n",
              "      <th></th>\n",
              "      <th>Country</th>\n",
              "      <th>Total cases</th>\n",
              "      <th>New cases</th>\n",
              "      <th>Total Deaths</th>\n",
              "      <th>New Deaths</th>\n",
              "      <th>Total recovered</th>\n",
              "      <th>New recovered</th>\n",
              "      <th>Active cases</th>\n",
              "      <th>Serious/critical</th>\n",
              "      <th>Total cases/1M</th>\n",
              "      <th>Death/1M</th>\n",
              "      <th>Total tests</th>\n",
              "      <th>Test/1M</th>\n",
              "      <th>Population</th>\n",
              "      <th>Continent</th>\n",
              "    </tr>\n",
              "  </thead>\n",
              "  <tbody>\n",
              "    <tr>\n",
              "      <th>0</th>\n",
              "      <td>Total:</td>\n",
              "      <td>200899282</td>\n",
              "      <td>652457</td>\n",
              "      <td>4268369</td>\n",
              "      <td>9458</td>\n",
              "      <td>180883342</td>\n",
              "      <td>370800</td>\n",
              "      <td>15747571</td>\n",
              "      <td>93468</td>\n",
              "      <td>25773.5</td>\n",
              "      <td>547.6</td>\n",
              "      <td></td>\n",
              "      <td></td>\n",
              "      <td></td>\n",
              "      <td>All</td>\n",
              "    </tr>\n",
              "  </tbody>\n",
              "</table>\n",
              "</div>"
            ],
            "text/plain": [
              "  Country Total cases New cases  ... Test/1M Population Continent\n",
              "0  Total:   200899282    652457  ...                          All\n",
              "\n",
              "[1 rows x 15 columns]"
            ]
          },
          "metadata": {
            "tags": []
          },
          "execution_count": 37
        }
      ]
    },
    {
      "cell_type": "markdown",
      "metadata": {
        "id": "2oqe-8Px9AAX"
      },
      "source": [
        "### Convert scraped data into csv file and create a dataframe  \n",
        "The scraped data loaded into a Pandas DataFrame for easy analysis"
      ]
    },
    {
      "cell_type": "code",
      "metadata": {
        "id": "qdXcVoJZrHYn"
      },
      "source": [
        "data.to_csv('covid_data2Aug.csv',index=False)"
      ],
      "execution_count": null,
      "outputs": []
    },
    {
      "cell_type": "code",
      "metadata": {
        "colab": {
          "base_uri": "https://localhost:8080/",
          "height": 558
        },
        "id": "2Qekqy4Ok8Cw",
        "outputId": "5909759d-69b6-4caa-cfe3-8ba691b3b103"
      },
      "source": [
        "data=pd.read_csv('/content/drive/MyDrive/covid_data2Aug.csv')\n",
        "data"
      ],
      "execution_count": null,
      "outputs": [
        {
          "output_type": "execute_result",
          "data": {
            "text/html": [
              "<div>\n",
              "<style scoped>\n",
              "    .dataframe tbody tr th:only-of-type {\n",
              "        vertical-align: middle;\n",
              "    }\n",
              "\n",
              "    .dataframe tbody tr th {\n",
              "        vertical-align: top;\n",
              "    }\n",
              "\n",
              "    .dataframe thead th {\n",
              "        text-align: right;\n",
              "    }\n",
              "</style>\n",
              "<table border=\"1\" class=\"dataframe\">\n",
              "  <thead>\n",
              "    <tr style=\"text-align: right;\">\n",
              "      <th></th>\n",
              "      <th>Country</th>\n",
              "      <th>Total cases</th>\n",
              "      <th>New cases</th>\n",
              "      <th>Total Deaths</th>\n",
              "      <th>New Deaths</th>\n",
              "      <th>Total recovered</th>\n",
              "      <th>New recovered</th>\n",
              "      <th>Active cases</th>\n",
              "      <th>Serious/critical</th>\n",
              "      <th>Total cases/1M</th>\n",
              "      <th>Death/1M</th>\n",
              "      <th>Total tests</th>\n",
              "      <th>Test/1M</th>\n",
              "      <th>Population</th>\n",
              "      <th>Continent</th>\n",
              "    </tr>\n",
              "  </thead>\n",
              "  <tbody>\n",
              "    <tr>\n",
              "      <th>0</th>\n",
              "      <td>USA</td>\n",
              "      <td>35768924</td>\n",
              "      <td>NaN</td>\n",
              "      <td>629380</td>\n",
              "      <td>NaN</td>\n",
              "      <td>29673290.0</td>\n",
              "      <td>NaN</td>\n",
              "      <td>5466254.0</td>\n",
              "      <td>11513.0</td>\n",
              "      <td>107381</td>\n",
              "      <td>1889.0</td>\n",
              "      <td>529918049.0</td>\n",
              "      <td>1590850.0</td>\n",
              "      <td>333103730</td>\n",
              "      <td>North America</td>\n",
              "    </tr>\n",
              "    <tr>\n",
              "      <th>1</th>\n",
              "      <td>India</td>\n",
              "      <td>31695958</td>\n",
              "      <td>590.0</td>\n",
              "      <td>424808</td>\n",
              "      <td>NaN</td>\n",
              "      <td>30857467.0</td>\n",
              "      <td>7786.0</td>\n",
              "      <td>413683.0</td>\n",
              "      <td>8944.0</td>\n",
              "      <td>22726</td>\n",
              "      <td>305.0</td>\n",
              "      <td>469645494.0</td>\n",
              "      <td>336741.0</td>\n",
              "      <td>1394679506</td>\n",
              "      <td>Asia</td>\n",
              "    </tr>\n",
              "    <tr>\n",
              "      <th>2</th>\n",
              "      <td>Brazil</td>\n",
              "      <td>19938358</td>\n",
              "      <td>NaN</td>\n",
              "      <td>556886</td>\n",
              "      <td>NaN</td>\n",
              "      <td>18645993.0</td>\n",
              "      <td>NaN</td>\n",
              "      <td>735479.0</td>\n",
              "      <td>8318.0</td>\n",
              "      <td>93085</td>\n",
              "      <td>2600.0</td>\n",
              "      <td>55034721.0</td>\n",
              "      <td>256938.0</td>\n",
              "      <td>214194612</td>\n",
              "      <td>South America</td>\n",
              "    </tr>\n",
              "    <tr>\n",
              "      <th>3</th>\n",
              "      <td>Russia</td>\n",
              "      <td>6312185</td>\n",
              "      <td>23508.0</td>\n",
              "      <td>160137</td>\n",
              "      <td>785.0</td>\n",
              "      <td>5640783.0</td>\n",
              "      <td>14893.0</td>\n",
              "      <td>511265.0</td>\n",
              "      <td>2300.0</td>\n",
              "      <td>43233</td>\n",
              "      <td>1097.0</td>\n",
              "      <td>166200000.0</td>\n",
              "      <td>1138339.0</td>\n",
              "      <td>146002264</td>\n",
              "      <td>Europe</td>\n",
              "    </tr>\n",
              "    <tr>\n",
              "      <th>4</th>\n",
              "      <td>France</td>\n",
              "      <td>6146619</td>\n",
              "      <td>NaN</td>\n",
              "      <td>111885</td>\n",
              "      <td>NaN</td>\n",
              "      <td>5702014.0</td>\n",
              "      <td>NaN</td>\n",
              "      <td>332720.0</td>\n",
              "      <td>1137.0</td>\n",
              "      <td>93942</td>\n",
              "      <td>1710.0</td>\n",
              "      <td>105215767.0</td>\n",
              "      <td>1608067.0</td>\n",
              "      <td>65429963</td>\n",
              "      <td>Europe</td>\n",
              "    </tr>\n",
              "    <tr>\n",
              "      <th>...</th>\n",
              "      <td>...</td>\n",
              "      <td>...</td>\n",
              "      <td>...</td>\n",
              "      <td>...</td>\n",
              "      <td>...</td>\n",
              "      <td>...</td>\n",
              "      <td>...</td>\n",
              "      <td>...</td>\n",
              "      <td>...</td>\n",
              "      <td>...</td>\n",
              "      <td>...</td>\n",
              "      <td>...</td>\n",
              "      <td>...</td>\n",
              "      <td>...</td>\n",
              "      <td>...</td>\n",
              "    </tr>\n",
              "    <tr>\n",
              "      <th>206</th>\n",
              "      <td>Macao</td>\n",
              "      <td>59</td>\n",
              "      <td>NaN</td>\n",
              "      <td></td>\n",
              "      <td>NaN</td>\n",
              "      <td>54.0</td>\n",
              "      <td>NaN</td>\n",
              "      <td>5.0</td>\n",
              "      <td>NaN</td>\n",
              "      <td>90</td>\n",
              "      <td>NaN</td>\n",
              "      <td>4671.0</td>\n",
              "      <td>7089.0</td>\n",
              "      <td>658901</td>\n",
              "      <td>Asia</td>\n",
              "    </tr>\n",
              "    <tr>\n",
              "      <th>207</th>\n",
              "      <td>Saint Pierre Miquelon</td>\n",
              "      <td>28</td>\n",
              "      <td>NaN</td>\n",
              "      <td></td>\n",
              "      <td>NaN</td>\n",
              "      <td>26.0</td>\n",
              "      <td>NaN</td>\n",
              "      <td>2.0</td>\n",
              "      <td>NaN</td>\n",
              "      <td>4859</td>\n",
              "      <td>NaN</td>\n",
              "      <td>6128.0</td>\n",
              "      <td>1063335.0</td>\n",
              "      <td>5763</td>\n",
              "      <td>North America</td>\n",
              "    </tr>\n",
              "    <tr>\n",
              "      <th>208</th>\n",
              "      <td>Montserrat</td>\n",
              "      <td>21</td>\n",
              "      <td>NaN</td>\n",
              "      <td>1</td>\n",
              "      <td>NaN</td>\n",
              "      <td>19.0</td>\n",
              "      <td>NaN</td>\n",
              "      <td>1.0</td>\n",
              "      <td>NaN</td>\n",
              "      <td>4204</td>\n",
              "      <td>200.0</td>\n",
              "      <td>1408.0</td>\n",
              "      <td>281882.0</td>\n",
              "      <td>4995</td>\n",
              "      <td>North America</td>\n",
              "    </tr>\n",
              "    <tr>\n",
              "      <th>209</th>\n",
              "      <td>Western Sahara</td>\n",
              "      <td>10</td>\n",
              "      <td>NaN</td>\n",
              "      <td>1</td>\n",
              "      <td>NaN</td>\n",
              "      <td>8.0</td>\n",
              "      <td>NaN</td>\n",
              "      <td>1.0</td>\n",
              "      <td>NaN</td>\n",
              "      <td>16</td>\n",
              "      <td>2.0</td>\n",
              "      <td>NaN</td>\n",
              "      <td>NaN</td>\n",
              "      <td>613171</td>\n",
              "      <td>Africa</td>\n",
              "    </tr>\n",
              "    <tr>\n",
              "      <th>210</th>\n",
              "      <td>China</td>\n",
              "      <td>93103</td>\n",
              "      <td>98.0</td>\n",
              "      <td>4636</td>\n",
              "      <td>NaN</td>\n",
              "      <td>87376.0</td>\n",
              "      <td>29.0</td>\n",
              "      <td>1091.0</td>\n",
              "      <td>24.0</td>\n",
              "      <td>65</td>\n",
              "      <td>3.0</td>\n",
              "      <td>160000000.0</td>\n",
              "      <td>111163.0</td>\n",
              "      <td>1439323776</td>\n",
              "      <td>Asia</td>\n",
              "    </tr>\n",
              "  </tbody>\n",
              "</table>\n",
              "<p>211 rows × 15 columns</p>\n",
              "</div>"
            ],
            "text/plain": [
              "                   Country  Total cases  ...  Population      Continent\n",
              "0                      USA     35768924  ...   333103730  North America\n",
              "1                    India     31695958  ...  1394679506           Asia\n",
              "2                   Brazil     19938358  ...   214194612  South America\n",
              "3                   Russia      6312185  ...   146002264         Europe\n",
              "4                   France      6146619  ...    65429963         Europe\n",
              "..                     ...          ...  ...         ...            ...\n",
              "206                  Macao           59  ...      658901           Asia\n",
              "207  Saint Pierre Miquelon           28  ...        5763  North America\n",
              "208             Montserrat           21  ...        4995  North America\n",
              "209         Western Sahara           10  ...      613171         Africa\n",
              "210                  China        93103  ...  1439323776           Asia\n",
              "\n",
              "[211 rows x 15 columns]"
            ]
          },
          "metadata": {
            "tags": []
          },
          "execution_count": 57
        }
      ]
    },
    {
      "cell_type": "code",
      "metadata": {
        "colab": {
          "base_uri": "https://localhost:8080/",
          "height": 297
        },
        "id": "p3O_8Sb9Brki",
        "outputId": "b221c0c8-2e8d-4332-aa21-6f8e4aa03c42"
      },
      "source": [
        "data.describe()"
      ],
      "execution_count": null,
      "outputs": [
        {
          "output_type": "execute_result",
          "data": {
            "text/html": [
              "<div>\n",
              "<style scoped>\n",
              "    .dataframe tbody tr th:only-of-type {\n",
              "        vertical-align: middle;\n",
              "    }\n",
              "\n",
              "    .dataframe tbody tr th {\n",
              "        vertical-align: top;\n",
              "    }\n",
              "\n",
              "    .dataframe thead th {\n",
              "        text-align: right;\n",
              "    }\n",
              "</style>\n",
              "<table border=\"1\" class=\"dataframe\">\n",
              "  <thead>\n",
              "    <tr style=\"text-align: right;\">\n",
              "      <th></th>\n",
              "      <th>Total cases</th>\n",
              "      <th>New cases</th>\n",
              "      <th>New Deaths</th>\n",
              "      <th>Total recovered</th>\n",
              "      <th>New recovered</th>\n",
              "      <th>Active cases</th>\n",
              "      <th>Serious/critical</th>\n",
              "      <th>Total cases/1M</th>\n",
              "      <th>Death/1M</th>\n",
              "      <th>Total tests</th>\n",
              "      <th>Test/1M</th>\n",
              "      <th>Population</th>\n",
              "    </tr>\n",
              "  </thead>\n",
              "  <tbody>\n",
              "    <tr>\n",
              "      <th>count</th>\n",
              "      <td>2.110000e+02</td>\n",
              "      <td>48.000000</td>\n",
              "      <td>28.000000</td>\n",
              "      <td>2.100000e+02</td>\n",
              "      <td>41.000000</td>\n",
              "      <td>2.100000e+02</td>\n",
              "      <td>147.000000</td>\n",
              "      <td>211.000000</td>\n",
              "      <td>205.000000</td>\n",
              "      <td>2.060000e+02</td>\n",
              "      <td>2.060000e+02</td>\n",
              "      <td>2.110000e+02</td>\n",
              "    </tr>\n",
              "    <tr>\n",
              "      <th>mean</th>\n",
              "      <td>9.436628e+05</td>\n",
              "      <td>2872.416667</td>\n",
              "      <td>120.535714</td>\n",
              "      <td>8.475838e+05</td>\n",
              "      <td>2858.243902</td>\n",
              "      <td>7.123970e+04</td>\n",
              "      <td>615.700680</td>\n",
              "      <td>41276.322275</td>\n",
              "      <td>702.180000</td>\n",
              "      <td>1.464493e+07</td>\n",
              "      <td>9.038209e+05</td>\n",
              "      <td>3.715459e+07</td>\n",
              "    </tr>\n",
              "    <tr>\n",
              "      <th>std</th>\n",
              "      <td>3.674708e+06</td>\n",
              "      <td>5766.678508</td>\n",
              "      <td>323.078076</td>\n",
              "      <td>3.319933e+06</td>\n",
              "      <td>6129.049575</td>\n",
              "      <td>3.969405e+05</td>\n",
              "      <td>1712.032872</td>\n",
              "      <td>42457.601539</td>\n",
              "      <td>848.945355</td>\n",
              "      <td>5.542447e+07</td>\n",
              "      <td>1.663334e+06</td>\n",
              "      <td>1.430019e+08</td>\n",
              "    </tr>\n",
              "    <tr>\n",
              "      <th>min</th>\n",
              "      <td>1.000000e+01</td>\n",
              "      <td>3.000000</td>\n",
              "      <td>1.000000</td>\n",
              "      <td>8.000000e+00</td>\n",
              "      <td>1.000000</td>\n",
              "      <td>1.000000e+00</td>\n",
              "      <td>1.000000</td>\n",
              "      <td>16.000000</td>\n",
              "      <td>0.300000</td>\n",
              "      <td>1.408000e+03</td>\n",
              "      <td>2.935000e+03</td>\n",
              "      <td>4.995000e+03</td>\n",
              "    </tr>\n",
              "    <tr>\n",
              "      <th>25%</th>\n",
              "      <td>1.135050e+04</td>\n",
              "      <td>88.500000</td>\n",
              "      <td>3.000000</td>\n",
              "      <td>7.036000e+03</td>\n",
              "      <td>40.000000</td>\n",
              "      <td>5.605000e+02</td>\n",
              "      <td>8.000000</td>\n",
              "      <td>3679.500000</td>\n",
              "      <td>62.000000</td>\n",
              "      <td>1.891418e+05</td>\n",
              "      <td>9.346700e+04</td>\n",
              "      <td>9.028510e+05</td>\n",
              "    </tr>\n",
              "    <tr>\n",
              "      <th>50%</th>\n",
              "      <td>9.419500e+04</td>\n",
              "      <td>276.000000</td>\n",
              "      <td>9.500000</td>\n",
              "      <td>7.646500e+04</td>\n",
              "      <td>531.000000</td>\n",
              "      <td>4.882000e+03</td>\n",
              "      <td>37.000000</td>\n",
              "      <td>28486.000000</td>\n",
              "      <td>353.000000</td>\n",
              "      <td>1.385674e+06</td>\n",
              "      <td>3.421280e+05</td>\n",
              "      <td>6.972274e+06</td>\n",
              "    </tr>\n",
              "    <tr>\n",
              "      <th>75%</th>\n",
              "      <td>4.308115e+05</td>\n",
              "      <td>1904.000000</td>\n",
              "      <td>49.250000</td>\n",
              "      <td>3.956650e+05</td>\n",
              "      <td>1800.000000</td>\n",
              "      <td>2.228100e+04</td>\n",
              "      <td>304.000000</td>\n",
              "      <td>71408.500000</td>\n",
              "      <td>1069.000000</td>\n",
              "      <td>7.192830e+06</td>\n",
              "      <td>9.803535e+05</td>\n",
              "      <td>2.645108e+07</td>\n",
              "    </tr>\n",
              "    <tr>\n",
              "      <th>max</th>\n",
              "      <td>3.576892e+07</td>\n",
              "      <td>23508.000000</td>\n",
              "      <td>1568.000000</td>\n",
              "      <td>3.085747e+07</td>\n",
              "      <td>32807.000000</td>\n",
              "      <td>5.466254e+06</td>\n",
              "      <td>11513.000000</td>\n",
              "      <td>189641.000000</td>\n",
              "      <td>5869.000000</td>\n",
              "      <td>5.299180e+08</td>\n",
              "      <td>1.314314e+07</td>\n",
              "      <td>1.439324e+09</td>\n",
              "    </tr>\n",
              "  </tbody>\n",
              "</table>\n",
              "</div>"
            ],
            "text/plain": [
              "        Total cases     New cases  ...       Test/1M    Population\n",
              "count  2.110000e+02     48.000000  ...  2.060000e+02  2.110000e+02\n",
              "mean   9.436628e+05   2872.416667  ...  9.038209e+05  3.715459e+07\n",
              "std    3.674708e+06   5766.678508  ...  1.663334e+06  1.430019e+08\n",
              "min    1.000000e+01      3.000000  ...  2.935000e+03  4.995000e+03\n",
              "25%    1.135050e+04     88.500000  ...  9.346700e+04  9.028510e+05\n",
              "50%    9.419500e+04    276.000000  ...  3.421280e+05  6.972274e+06\n",
              "75%    4.308115e+05   1904.000000  ...  9.803535e+05  2.645108e+07\n",
              "max    3.576892e+07  23508.000000  ...  1.314314e+07  1.439324e+09\n",
              "\n",
              "[8 rows x 12 columns]"
            ]
          },
          "metadata": {
            "tags": []
          },
          "execution_count": 6
        }
      ]
    },
    {
      "cell_type": "code",
      "metadata": {
        "id": "FwFZ6SLzsUlm"
      },
      "source": [
        "#convert to numeric data\n",
        "for label in data.columns:\n",
        "  if label !='Country' and label !='Continent':\n",
        "    data[label]=data[label].apply(pd.to_numeric, errors='coerce') "
      ],
      "execution_count": null,
      "outputs": []
    },
    {
      "cell_type": "code",
      "metadata": {
        "id": "4ZrN0WYxsUrX",
        "colab": {
          "base_uri": "https://localhost:8080/"
        },
        "outputId": "0e4df4c3-f08f-45a1-99ae-150cfe90bd29"
      },
      "source": [
        "data.dtypes"
      ],
      "execution_count": null,
      "outputs": [
        {
          "output_type": "execute_result",
          "data": {
            "text/plain": [
              "Country              object\n",
              "Total cases           int64\n",
              "New cases           float64\n",
              "Total Deaths        float64\n",
              "New Deaths          float64\n",
              "Total recovered     float64\n",
              "New recovered       float64\n",
              "Active cases        float64\n",
              "Serious/critical    float64\n",
              "Total cases/1M        int64\n",
              "Death/1M            float64\n",
              "Total tests         float64\n",
              "Test/1M             float64\n",
              "Population            int64\n",
              "Continent            object\n",
              "dtype: object"
            ]
          },
          "metadata": {
            "tags": []
          },
          "execution_count": 22
        }
      ]
    },
    {
      "cell_type": "markdown",
      "metadata": {
        "id": "HZMAKG8oZeFR"
      },
      "source": [
        "## Check null values in each column"
      ]
    },
    {
      "cell_type": "code",
      "metadata": {
        "colab": {
          "base_uri": "https://localhost:8080/"
        },
        "id": "PuRBj_CGGIe3",
        "outputId": "3bda3750-dac8-4202-a1a6-c849391c6b71"
      },
      "source": [
        "data.isnull().sum()"
      ],
      "execution_count": null,
      "outputs": [
        {
          "output_type": "execute_result",
          "data": {
            "text/plain": [
              "Country               0\n",
              "Total cases           0\n",
              "New cases           163\n",
              "Total Deaths          0\n",
              "New Deaths          183\n",
              "Total recovered       1\n",
              "New recovered       170\n",
              "Active cases          1\n",
              "Serious/critical     64\n",
              "Total cases/1M        0\n",
              "Death/1M              6\n",
              "Total tests           5\n",
              "Test/1M               5\n",
              "Population            0\n",
              "Continent             0\n",
              "dtype: int64"
            ]
          },
          "metadata": {
            "tags": []
          },
          "execution_count": 20
        }
      ]
    },
    {
      "cell_type": "markdown",
      "metadata": {
        "id": "6Lrcf1XO6RQ6"
      },
      "source": [
        "## check the null value using heat map"
      ]
    },
    {
      "cell_type": "code",
      "metadata": {
        "colab": {
          "base_uri": "https://localhost:8080/",
          "height": 335
        },
        "id": "EUqm0YhP-Iwx",
        "outputId": "93b7f5e0-4f4a-44d7-c4a6-c8cab7bdf385"
      },
      "source": [
        "sns.heatmap(data.isnull())\n",
        "plt.show()  #state contains null values"
      ],
      "execution_count": null,
      "outputs": [
        {
          "output_type": "display_data",
          "data": {
            "image/png": "[encoded data removed]",
            "text/plain": [
              "<Figure size 432x288 with 2 Axes>"
            ]
          },
          "metadata": {
            "tags": [],
            "needs_background": "light"
          }
        }
      ]
    },
    {
      "cell_type": "markdown",
      "metadata": {
        "id": "J-ZHZLZAwLtU"
      },
      "source": [
        "## To avoid the null values in the DataFrame, replace them by -1 "
      ]
    },
    {
      "cell_type": "code",
      "metadata": {
        "colab": {
          "base_uri": "https://localhost:8080/",
          "height": 558
        },
        "id": "8FkOlivMF1Vo",
        "outputId": "d678c312-48b9-4608-8b62-1f68be6f70ad"
      },
      "source": [
        "#Replace Null values with zeros \n",
        "data=data.replace(np.nan, -1)\n",
        "data"
      ],
      "execution_count": null,
      "outputs": [
        {
          "output_type": "execute_result",
          "data": {
            "text/html": [
              "<div>\n",
              "<style scoped>\n",
              "    .dataframe tbody tr th:only-of-type {\n",
              "        vertical-align: middle;\n",
              "    }\n",
              "\n",
              "    .dataframe tbody tr th {\n",
              "        vertical-align: top;\n",
              "    }\n",
              "\n",
              "    .dataframe thead th {\n",
              "        text-align: right;\n",
              "    }\n",
              "</style>\n",
              "<table border=\"1\" class=\"dataframe\">\n",
              "  <thead>\n",
              "    <tr style=\"text-align: right;\">\n",
              "      <th></th>\n",
              "      <th>Country</th>\n",
              "      <th>Total cases</th>\n",
              "      <th>New cases</th>\n",
              "      <th>Total Deaths</th>\n",
              "      <th>New Deaths</th>\n",
              "      <th>Total recovered</th>\n",
              "      <th>New recovered</th>\n",
              "      <th>Active cases</th>\n",
              "      <th>Serious/critical</th>\n",
              "      <th>Total cases/1M</th>\n",
              "      <th>Death/1M</th>\n",
              "      <th>Total tests</th>\n",
              "      <th>Test/1M</th>\n",
              "      <th>Population</th>\n",
              "      <th>Continent</th>\n",
              "    </tr>\n",
              "  </thead>\n",
              "  <tbody>\n",
              "    <tr>\n",
              "      <th>0</th>\n",
              "      <td>USA</td>\n",
              "      <td>35768924</td>\n",
              "      <td>-1.0</td>\n",
              "      <td>629380.0</td>\n",
              "      <td>-1.0</td>\n",
              "      <td>29673290.0</td>\n",
              "      <td>-1.0</td>\n",
              "      <td>5466254.0</td>\n",
              "      <td>11513.0</td>\n",
              "      <td>107381</td>\n",
              "      <td>1889.0</td>\n",
              "      <td>529918049.0</td>\n",
              "      <td>1590850.0</td>\n",
              "      <td>333103730</td>\n",
              "      <td>North America</td>\n",
              "    </tr>\n",
              "    <tr>\n",
              "      <th>1</th>\n",
              "      <td>India</td>\n",
              "      <td>31695958</td>\n",
              "      <td>590.0</td>\n",
              "      <td>424808.0</td>\n",
              "      <td>-1.0</td>\n",
              "      <td>30857467.0</td>\n",
              "      <td>7786.0</td>\n",
              "      <td>413683.0</td>\n",
              "      <td>8944.0</td>\n",
              "      <td>22726</td>\n",
              "      <td>305.0</td>\n",
              "      <td>469645494.0</td>\n",
              "      <td>336741.0</td>\n",
              "      <td>1394679506</td>\n",
              "      <td>Asia</td>\n",
              "    </tr>\n",
              "    <tr>\n",
              "      <th>2</th>\n",
              "      <td>Brazil</td>\n",
              "      <td>19938358</td>\n",
              "      <td>-1.0</td>\n",
              "      <td>556886.0</td>\n",
              "      <td>-1.0</td>\n",
              "      <td>18645993.0</td>\n",
              "      <td>-1.0</td>\n",
              "      <td>735479.0</td>\n",
              "      <td>8318.0</td>\n",
              "      <td>93085</td>\n",
              "      <td>2600.0</td>\n",
              "      <td>55034721.0</td>\n",
              "      <td>256938.0</td>\n",
              "      <td>214194612</td>\n",
              "      <td>South America</td>\n",
              "    </tr>\n",
              "    <tr>\n",
              "      <th>3</th>\n",
              "      <td>Russia</td>\n",
              "      <td>6312185</td>\n",
              "      <td>23508.0</td>\n",
              "      <td>160137.0</td>\n",
              "      <td>785.0</td>\n",
              "      <td>5640783.0</td>\n",
              "      <td>14893.0</td>\n",
              "      <td>511265.0</td>\n",
              "      <td>2300.0</td>\n",
              "      <td>43233</td>\n",
              "      <td>1097.0</td>\n",
              "      <td>166200000.0</td>\n",
              "      <td>1138339.0</td>\n",
              "      <td>146002264</td>\n",
              "      <td>Europe</td>\n",
              "    </tr>\n",
              "    <tr>\n",
              "      <th>4</th>\n",
              "      <td>France</td>\n",
              "      <td>6146619</td>\n",
              "      <td>-1.0</td>\n",
              "      <td>111885.0</td>\n",
              "      <td>-1.0</td>\n",
              "      <td>5702014.0</td>\n",
              "      <td>-1.0</td>\n",
              "      <td>332720.0</td>\n",
              "      <td>1137.0</td>\n",
              "      <td>93942</td>\n",
              "      <td>1710.0</td>\n",
              "      <td>105215767.0</td>\n",
              "      <td>1608067.0</td>\n",
              "      <td>65429963</td>\n",
              "      <td>Europe</td>\n",
              "    </tr>\n",
              "    <tr>\n",
              "      <th>...</th>\n",
              "      <td>...</td>\n",
              "      <td>...</td>\n",
              "      <td>...</td>\n",
              "      <td>...</td>\n",
              "      <td>...</td>\n",
              "      <td>...</td>\n",
              "      <td>...</td>\n",
              "      <td>...</td>\n",
              "      <td>...</td>\n",
              "      <td>...</td>\n",
              "      <td>...</td>\n",
              "      <td>...</td>\n",
              "      <td>...</td>\n",
              "      <td>...</td>\n",
              "      <td>...</td>\n",
              "    </tr>\n",
              "    <tr>\n",
              "      <th>206</th>\n",
              "      <td>Macao</td>\n",
              "      <td>59</td>\n",
              "      <td>-1.0</td>\n",
              "      <td>-1.0</td>\n",
              "      <td>-1.0</td>\n",
              "      <td>54.0</td>\n",
              "      <td>-1.0</td>\n",
              "      <td>5.0</td>\n",
              "      <td>-1.0</td>\n",
              "      <td>90</td>\n",
              "      <td>-1.0</td>\n",
              "      <td>4671.0</td>\n",
              "      <td>7089.0</td>\n",
              "      <td>658901</td>\n",
              "      <td>Asia</td>\n",
              "    </tr>\n",
              "    <tr>\n",
              "      <th>207</th>\n",
              "      <td>Saint Pierre Miquelon</td>\n",
              "      <td>28</td>\n",
              "      <td>-1.0</td>\n",
              "      <td>-1.0</td>\n",
              "      <td>-1.0</td>\n",
              "      <td>26.0</td>\n",
              "      <td>-1.0</td>\n",
              "      <td>2.0</td>\n",
              "      <td>-1.0</td>\n",
              "      <td>4859</td>\n",
              "      <td>-1.0</td>\n",
              "      <td>6128.0</td>\n",
              "      <td>1063335.0</td>\n",
              "      <td>5763</td>\n",
              "      <td>North America</td>\n",
              "    </tr>\n",
              "    <tr>\n",
              "      <th>208</th>\n",
              "      <td>Montserrat</td>\n",
              "      <td>21</td>\n",
              "      <td>-1.0</td>\n",
              "      <td>1.0</td>\n",
              "      <td>-1.0</td>\n",
              "      <td>19.0</td>\n",
              "      <td>-1.0</td>\n",
              "      <td>1.0</td>\n",
              "      <td>-1.0</td>\n",
              "      <td>4204</td>\n",
              "      <td>200.0</td>\n",
              "      <td>1408.0</td>\n",
              "      <td>281882.0</td>\n",
              "      <td>4995</td>\n",
              "      <td>North America</td>\n",
              "    </tr>\n",
              "    <tr>\n",
              "      <th>209</th>\n",
              "      <td>Western Sahara</td>\n",
              "      <td>10</td>\n",
              "      <td>-1.0</td>\n",
              "      <td>1.0</td>\n",
              "      <td>-1.0</td>\n",
              "      <td>8.0</td>\n",
              "      <td>-1.0</td>\n",
              "      <td>1.0</td>\n",
              "      <td>-1.0</td>\n",
              "      <td>16</td>\n",
              "      <td>2.0</td>\n",
              "      <td>-1.0</td>\n",
              "      <td>-1.0</td>\n",
              "      <td>613171</td>\n",
              "      <td>Africa</td>\n",
              "    </tr>\n",
              "    <tr>\n",
              "      <th>210</th>\n",
              "      <td>China</td>\n",
              "      <td>93103</td>\n",
              "      <td>98.0</td>\n",
              "      <td>4636.0</td>\n",
              "      <td>-1.0</td>\n",
              "      <td>87376.0</td>\n",
              "      <td>29.0</td>\n",
              "      <td>1091.0</td>\n",
              "      <td>24.0</td>\n",
              "      <td>65</td>\n",
              "      <td>3.0</td>\n",
              "      <td>160000000.0</td>\n",
              "      <td>111163.0</td>\n",
              "      <td>1439323776</td>\n",
              "      <td>Asia</td>\n",
              "    </tr>\n",
              "  </tbody>\n",
              "</table>\n",
              "<p>211 rows × 15 columns</p>\n",
              "</div>"
            ],
            "text/plain": [
              "                   Country  Total cases  ...  Population      Continent\n",
              "0                      USA     35768924  ...   333103730  North America\n",
              "1                    India     31695958  ...  1394679506           Asia\n",
              "2                   Brazil     19938358  ...   214194612  South America\n",
              "3                   Russia      6312185  ...   146002264         Europe\n",
              "4                   France      6146619  ...    65429963         Europe\n",
              "..                     ...          ...  ...         ...            ...\n",
              "206                  Macao           59  ...      658901           Asia\n",
              "207  Saint Pierre Miquelon           28  ...        5763  North America\n",
              "208             Montserrat           21  ...        4995  North America\n",
              "209         Western Sahara           10  ...      613171         Africa\n",
              "210                  China        93103  ...  1439323776           Asia\n",
              "\n",
              "[211 rows x 15 columns]"
            ]
          },
          "metadata": {
            "tags": []
          },
          "execution_count": 6
        }
      ]
    },
    {
      "cell_type": "markdown",
      "metadata": {
        "id": "kEfF9PxJYdFL"
      },
      "source": [
        "###Convert object type into numeric"
      ]
    },
    {
      "cell_type": "code",
      "metadata": {
        "id": "ZD_Pvw_vXt8b"
      },
      "source": [
        "for label in data.columns:\n",
        "  if label !='Country' and label !='Continent':\n",
        "    data[label]=pd.to_numeric(data[label])"
      ],
      "execution_count": null,
      "outputs": []
    },
    {
      "cell_type": "markdown",
      "metadata": {
        "id": "bOT9d36Tv3iA"
      },
      "source": [
        ""
      ]
    },
    {
      "cell_type": "markdown",
      "metadata": {
        "id": "ajoxtJwuAIz_"
      },
      "source": [
        "#  Exploratory Data Analysis (EDA) and Visualisation\n",
        "1. What is the proportion of Top 5 Countries in the race of fighting Covid19?\n",
        "2. Show and compare highest cases and highest death rate of first 5 countries\n",
        "3. Show the top 14 countries conducting covid test\n",
        "4. Show highest recovered cases of top 8 countries\n",
        "5. Show top 6 countries serious/critical state\n",
        "5. Show Top 10 countries have latest active cases \n",
        "6. Show Top 10 countries having active cases\n",
        "7. Show new cases of continents\n",
        "8. Show the population of continents\n",
        "9. Show comparison bettween continents wise population and covid test\n"
      ]
    },
    {
      "cell_type": "markdown",
      "metadata": {
        "id": "QPQmLSt4gAdA"
      },
      "source": [
        "Exploratory Data Analysis (EDA)\n",
        "It is an approach to analyzing data sets to summarize their main characteristics, often with visual methods."
      ]
    },
    {
      "cell_type": "markdown",
      "metadata": {
        "id": "De9kSetqDNBu"
      },
      "source": [
        "### What is the proportion of Top 5 Countries in the race of fighting Covid19?\n",
        "\n",
        "\n",
        "\n",
        "\n",
        "\n",
        "\n",
        "\n"
      ]
    },
    {
      "cell_type": "code",
      "metadata": {
        "colab": {
          "base_uri": "https://localhost:8080/",
          "height": 275
        },
        "id": "QtNdZQHR9fFT",
        "outputId": "e89f3eb5-07a6-4a7c-bceb-e3a2a6b13113"
      },
      "source": [
        "Countries_Top5_Cases=data.sort_values('Total cases',ascending=False).head(5)\n",
        "Countries_Top5_Cases"
      ],
      "execution_count": null,
      "outputs": [
        {
          "output_type": "execute_result",
          "data": {
            "text/html": [
              "<div>\n",
              "<style scoped>\n",
              "    .dataframe tbody tr th:only-of-type {\n",
              "        vertical-align: middle;\n",
              "    }\n",
              "\n",
              "    .dataframe tbody tr th {\n",
              "        vertical-align: top;\n",
              "    }\n",
              "\n",
              "    .dataframe thead th {\n",
              "        text-align: right;\n",
              "    }\n",
              "</style>\n",
              "<table border=\"1\" class=\"dataframe\">\n",
              "  <thead>\n",
              "    <tr style=\"text-align: right;\">\n",
              "      <th></th>\n",
              "      <th>Country</th>\n",
              "      <th>Total cases</th>\n",
              "      <th>New cases</th>\n",
              "      <th>Total Deaths</th>\n",
              "      <th>New Deaths</th>\n",
              "      <th>Total recovered</th>\n",
              "      <th>New recovered</th>\n",
              "      <th>Active cases</th>\n",
              "      <th>Serious/critical</th>\n",
              "      <th>Total cases/1M</th>\n",
              "      <th>Death/1M</th>\n",
              "      <th>Total tests</th>\n",
              "      <th>Test/1M</th>\n",
              "      <th>Population</th>\n",
              "      <th>Continent</th>\n",
              "    </tr>\n",
              "  </thead>\n",
              "  <tbody>\n",
              "    <tr>\n",
              "      <th>0</th>\n",
              "      <td>USA</td>\n",
              "      <td>35768924</td>\n",
              "      <td>-1.0</td>\n",
              "      <td>629380.0</td>\n",
              "      <td>-1.0</td>\n",
              "      <td>29673290.0</td>\n",
              "      <td>-1.0</td>\n",
              "      <td>5466254.0</td>\n",
              "      <td>11513.0</td>\n",
              "      <td>107381</td>\n",
              "      <td>1889.0</td>\n",
              "      <td>529918049.0</td>\n",
              "      <td>1590850.0</td>\n",
              "      <td>333103730</td>\n",
              "      <td>North America</td>\n",
              "    </tr>\n",
              "    <tr>\n",
              "      <th>1</th>\n",
              "      <td>India</td>\n",
              "      <td>31695958</td>\n",
              "      <td>590.0</td>\n",
              "      <td>424808.0</td>\n",
              "      <td>-1.0</td>\n",
              "      <td>30857467.0</td>\n",
              "      <td>7786.0</td>\n",
              "      <td>413683.0</td>\n",
              "      <td>8944.0</td>\n",
              "      <td>22726</td>\n",
              "      <td>305.0</td>\n",
              "      <td>469645494.0</td>\n",
              "      <td>336741.0</td>\n",
              "      <td>1394679506</td>\n",
              "      <td>Asia</td>\n",
              "    </tr>\n",
              "    <tr>\n",
              "      <th>2</th>\n",
              "      <td>Brazil</td>\n",
              "      <td>19938358</td>\n",
              "      <td>-1.0</td>\n",
              "      <td>556886.0</td>\n",
              "      <td>-1.0</td>\n",
              "      <td>18645993.0</td>\n",
              "      <td>-1.0</td>\n",
              "      <td>735479.0</td>\n",
              "      <td>8318.0</td>\n",
              "      <td>93085</td>\n",
              "      <td>2600.0</td>\n",
              "      <td>55034721.0</td>\n",
              "      <td>256938.0</td>\n",
              "      <td>214194612</td>\n",
              "      <td>South America</td>\n",
              "    </tr>\n",
              "    <tr>\n",
              "      <th>3</th>\n",
              "      <td>Russia</td>\n",
              "      <td>6312185</td>\n",
              "      <td>23508.0</td>\n",
              "      <td>160137.0</td>\n",
              "      <td>785.0</td>\n",
              "      <td>5640783.0</td>\n",
              "      <td>14893.0</td>\n",
              "      <td>511265.0</td>\n",
              "      <td>2300.0</td>\n",
              "      <td>43233</td>\n",
              "      <td>1097.0</td>\n",
              "      <td>166200000.0</td>\n",
              "      <td>1138339.0</td>\n",
              "      <td>146002264</td>\n",
              "      <td>Europe</td>\n",
              "    </tr>\n",
              "    <tr>\n",
              "      <th>4</th>\n",
              "      <td>France</td>\n",
              "      <td>6146619</td>\n",
              "      <td>-1.0</td>\n",
              "      <td>111885.0</td>\n",
              "      <td>-1.0</td>\n",
              "      <td>5702014.0</td>\n",
              "      <td>-1.0</td>\n",
              "      <td>332720.0</td>\n",
              "      <td>1137.0</td>\n",
              "      <td>93942</td>\n",
              "      <td>1710.0</td>\n",
              "      <td>105215767.0</td>\n",
              "      <td>1608067.0</td>\n",
              "      <td>65429963</td>\n",
              "      <td>Europe</td>\n",
              "    </tr>\n",
              "  </tbody>\n",
              "</table>\n",
              "</div>"
            ],
            "text/plain": [
              "  Country  Total cases  New cases  ...    Test/1M  Population      Continent\n",
              "0     USA     35768924       -1.0  ...  1590850.0   333103730  North America\n",
              "1   India     31695958      590.0  ...   336741.0  1394679506           Asia\n",
              "2  Brazil     19938358       -1.0  ...   256938.0   214194612  South America\n",
              "3  Russia      6312185    23508.0  ...  1138339.0   146002264         Europe\n",
              "4  France      6146619       -1.0  ...  1608067.0    65429963         Europe\n",
              "\n",
              "[5 rows x 15 columns]"
            ]
          },
          "metadata": {
            "tags": []
          },
          "execution_count": 10
        }
      ]
    },
    {
      "cell_type": "markdown",
      "metadata": {
        "id": "HA3vazkr2oUX"
      },
      "source": [
        "##Comparing Total test and death rate"
      ]
    },
    {
      "cell_type": "code",
      "metadata": {
        "colab": {
          "base_uri": "https://localhost:8080/",
          "height": 452
        },
        "id": "1n034GTayxYK",
        "outputId": "b40d0e70-4fb0-4cfe-ce9d-d431c1d64c66"
      },
      "source": [
        "Countries_Top5_Cases=data.sort_values('Total cases',ascending=False).head(5)\n",
        "Countries_Top5_Deaths=data.sort_values('Total Deaths',ascending=False).head(5)\n",
        "fig,(ax1,ax2)=plt.subplots(nrows=1,ncols=2,figsize=(18,7))\n",
        "ax1.bar(x=Countries_Top5_Cases['Country'],height=Countries_Top5_Cases['Total cases'],facecolor='b',alpha=0.75)\n",
        "ax1.set_title('Total cases',fontsize=20)\n",
        "ax1.set_ylabel(\"Covid cases\",fontsize=15)\n",
        "ax1.grid(ls=\"--\")\n",
        "ax1.tick_params(labelsize=13)\n",
        "ax2.bar(x=Countries_Top5_Deaths['Country'],height=Countries_Top5_Deaths['Total Deaths'],facecolor='g',alpha=0.75)\n",
        "ax2.set_title('Total Deaths',fontsize=20)\n",
        "ax2.set_ylabel(\" Deaths\",fontsize=15,labelpad=10)\n",
        "ax2.grid(ls=\"--\")\n",
        "ax2.tick_params(labelsize=13)\n",
        "fig=px.bar(data.sort_values('Total cases',ascending=False).head(5),x='Country',y='Total cases',text='Total cases',title='Top 10 Total cases across different Countries')\n",
        "\n",
        "#fig.show()"
      ],
      "execution_count": null,
      "outputs": [
        {
          "output_type": "display_data",
          "data": {
            "image/png": "[encoded data removed]",
            "text/plain": [
              "<Figure size 1296x504 with 2 Axes>"
            ]
          },
          "metadata": {
            "tags": [],
            "needs_background": "light"
          }
        }
      ]
    },
    {
      "cell_type": "markdown",
      "metadata": {
        "id": "Oy0wM6yVDZKo"
      },
      "source": [
        "## Top 6 country's covid test rate"
      ]
    },
    {
      "cell_type": "code",
      "metadata": {
        "colab": {
          "base_uri": "https://localhost:8080/",
          "height": 483
        },
        "id": "8sIVQatK_-pQ",
        "outputId": "28a78229-8510-462a-9bbd-5fcdc452a0a5"
      },
      "source": [
        "#In which country has highest test recorded?\n",
        "ds=data.groupby('Country')['Total tests'].sum().sort_values(ascending=False).head(14)\n",
        "ds.reset_index()\n"
      ],
      "execution_count": null,
      "outputs": [
        {
          "output_type": "execute_result",
          "data": {
            "text/html": [
              "<div>\n",
              "<style scoped>\n",
              "    .dataframe tbody tr th:only-of-type {\n",
              "        vertical-align: middle;\n",
              "    }\n",
              "\n",
              "    .dataframe tbody tr th {\n",
              "        vertical-align: top;\n",
              "    }\n",
              "\n",
              "    .dataframe thead th {\n",
              "        text-align: right;\n",
              "    }\n",
              "</style>\n",
              "<table border=\"1\" class=\"dataframe\">\n",
              "  <thead>\n",
              "    <tr style=\"text-align: right;\">\n",
              "      <th></th>\n",
              "      <th>Country</th>\n",
              "      <th>Total tests</th>\n",
              "    </tr>\n",
              "  </thead>\n",
              "  <tbody>\n",
              "    <tr>\n",
              "      <th>0</th>\n",
              "      <td>USA</td>\n",
              "      <td>529918049.0</td>\n",
              "    </tr>\n",
              "    <tr>\n",
              "      <th>1</th>\n",
              "      <td>India</td>\n",
              "      <td>469645494.0</td>\n",
              "    </tr>\n",
              "    <tr>\n",
              "      <th>2</th>\n",
              "      <td>UK</td>\n",
              "      <td>244114700.0</td>\n",
              "    </tr>\n",
              "    <tr>\n",
              "      <th>3</th>\n",
              "      <td>Russia</td>\n",
              "      <td>166200000.0</td>\n",
              "    </tr>\n",
              "    <tr>\n",
              "      <th>4</th>\n",
              "      <td>China</td>\n",
              "      <td>160000000.0</td>\n",
              "    </tr>\n",
              "    <tr>\n",
              "      <th>5</th>\n",
              "      <td>France</td>\n",
              "      <td>105215767.0</td>\n",
              "    </tr>\n",
              "    <tr>\n",
              "      <th>6</th>\n",
              "      <td>Italy</td>\n",
              "      <td>77711955.0</td>\n",
              "    </tr>\n",
              "    <tr>\n",
              "      <th>7</th>\n",
              "      <td>Denmark</td>\n",
              "      <td>76418034.0</td>\n",
              "    </tr>\n",
              "    <tr>\n",
              "      <th>8</th>\n",
              "      <td>Turkey</td>\n",
              "      <td>68120075.0</td>\n",
              "    </tr>\n",
              "    <tr>\n",
              "      <th>9</th>\n",
              "      <td>Austria</td>\n",
              "      <td>67201912.0</td>\n",
              "    </tr>\n",
              "    <tr>\n",
              "      <th>10</th>\n",
              "      <td>Germany</td>\n",
              "      <td>67083026.0</td>\n",
              "    </tr>\n",
              "    <tr>\n",
              "      <th>11</th>\n",
              "      <td>UAE</td>\n",
              "      <td>66473790.0</td>\n",
              "    </tr>\n",
              "    <tr>\n",
              "      <th>12</th>\n",
              "      <td>Spain</td>\n",
              "      <td>55855941.0</td>\n",
              "    </tr>\n",
              "    <tr>\n",
              "      <th>13</th>\n",
              "      <td>Brazil</td>\n",
              "      <td>55034721.0</td>\n",
              "    </tr>\n",
              "  </tbody>\n",
              "</table>\n",
              "</div>"
            ],
            "text/plain": [
              "    Country  Total tests\n",
              "0       USA  529918049.0\n",
              "1     India  469645494.0\n",
              "2        UK  244114700.0\n",
              "3    Russia  166200000.0\n",
              "4     China  160000000.0\n",
              "5    France  105215767.0\n",
              "6     Italy   77711955.0\n",
              "7   Denmark   76418034.0\n",
              "8    Turkey   68120075.0\n",
              "9   Austria   67201912.0\n",
              "10  Germany   67083026.0\n",
              "11      UAE   66473790.0\n",
              "12    Spain   55855941.0\n",
              "13   Brazil   55034721.0"
            ]
          },
          "metadata": {
            "tags": []
          },
          "execution_count": 12
        }
      ]
    },
    {
      "cell_type": "code",
      "metadata": {
        "colab": {
          "base_uri": "https://localhost:8080/",
          "height": 608
        },
        "id": "ARslqptb8q4G",
        "outputId": "52a308b2-22e9-4359-db78-7da0c426a7c2"
      },
      "source": [
        "ds.plot.pie(title=\"TEST RATE OF TOP 14 COUNTRIES\",figsize=(13,10))\n",
        "plt.legend(ds.head())"
      ],
      "execution_count": null,
      "outputs": [
        {
          "output_type": "execute_result",
          "data": {
            "text/plain": [
              "<matplotlib.legend.Legend at 0x7fe330798250>"
            ]
          },
          "metadata": {
            "tags": []
          },
          "execution_count": 13
        },
        {
          "output_type": "display_data",
          "data": {
            "image/png": "[encoded data removed]",
            "text/plain": [
              "<Figure size 936x720 with 1 Axes>"
            ]
          },
          "metadata": {
            "tags": []
          }
        }
      ]
    },
    {
      "cell_type": "markdown",
      "metadata": {
        "id": "dV9xePMsDqQQ"
      },
      "source": [
        "## Highest number of recovered cases"
      ]
    },
    {
      "cell_type": "code",
      "metadata": {
        "colab": {
          "base_uri": "https://localhost:8080/",
          "height": 617
        },
        "id": "XNEnrh33-2_7",
        "outputId": "8bace642-f26b-44fd-fed9-a9534cbed04b"
      },
      "source": [
        "top10_recovered = pd.DataFrame(data.groupby('Country')['Total recovered'].sum().nlargest(8).sort_values(ascending = False))\n",
        "fig3 = px.bar(top10_recovered,x = top10_recovered.index, y = 'Total recovered', height = 600, title = 'Top 8 Covid 19 Recovered Countries', color= 'Total recovered',color_continuous_scale = px.colors.sequential.Viridis)\n",
        "fig3.show()"
      ],
      "execution_count": null,
      "outputs": [
        {
          "output_type": "display_data",
          "data": {
            "text/html": [
              "<html>\n",
              "<head><meta charset=\"utf-8\" /></head>\n",
              "<body>\n",
              "    <div>\n",
              "            <script src=\"https://cdnjs.cloudflare.com/ajax/libs/mathjax/2.7.5/MathJax.js?config=TeX-AMS-MML_SVG\"></script><script type=\"text/javascript\">if (window.MathJax) {MathJax.Hub.Config({SVG: {font: \"STIX-Web\"}});}</script>\n",
              "                <script type=\"text/javascript\">window.PlotlyConfig = {MathJaxConfig: 'local'};</script>\n",
              "        <script src=\"https://cdn.plot.ly/plotly-latest.min.js\"></script>    \n",
              "            <div id=\"aee53f9b-b77b-43bf-bf37-50f420596b85\" class=\"plotly-graph-div\" style=\"height:600px; width:100%;\"></div>\n",
              "            <script type=\"text/javascript\">\n",
              "                \n",
              "                    window.PLOTLYENV=window.PLOTLYENV || {};\n",
              "                    \n",
              "                if (document.getElementById(\"aee53f9b-b77b-43bf-bf37-50f420596b85\")) {\n",
              "                    Plotly.newPlot(\n",
              "                        'aee53f9b-b77b-43bf-bf37-50f420596b85',\n",
              "                        [{\"alignmentgroup\": \"True\", \"hoverlabel\": {\"namelength\": 0}, \"hovertemplate\": \"x=%{x}<br>Total recovered=%{marker.color}\", \"legendgroup\": \"\", \"marker\": {\"color\": [30857467.0, 29673290.0, 18645993.0, 5702014.0, 5640783.0, 5459899.0, 4587754.0, 4581132.0], \"coloraxis\": \"coloraxis\"}, \"name\": \"\", \"offsetgroup\": \"\", \"orientation\": \"v\", \"showlegend\": false, \"textposition\": \"auto\", \"type\": \"bar\", \"x\": [\"India\", \"USA\", \"Brazil\", \"France\", \"Russia\", \"Turkey\", \"Colombia\", \"Argentina\"], \"xaxis\": \"x\", \"y\": [30857467.0, 29673290.0, 18645993.0, 5702014.0, 5640783.0, 5459899.0, 4587754.0, 4581132.0], \"yaxis\": \"y\"}],\n",
              "                        {\"barmode\": \"relative\", \"coloraxis\": {\"colorbar\": {\"title\": {\"text\": \"Total recovered\"}}, \"colorscale\": [[0.0, \"#440154\"], [0.1111111111111111, \"#482878\"], [0.2222222222222222, \"#3e4989\"], [0.3333333333333333, \"#31688e\"], [0.4444444444444444, \"#26828e\"], [0.5555555555555556, \"#1f9e89\"], [0.6666666666666666, \"#35b779\"], [0.7777777777777778, \"#6ece58\"], [0.8888888888888888, \"#b5de2b\"], [1.0, \"#fde725\"]]}, \"height\": 600, \"legend\": {\"tracegroupgap\": 0}, \"template\": {\"data\": {\"bar\": [{\"error_x\": {\"color\": \"#2a3f5f\"}, \"error_y\": {\"color\": \"#2a3f5f\"}, \"marker\": {\"line\": {\"color\": \"#E5ECF6\", \"width\": 0.5}}, \"type\": \"bar\"}], \"barpolar\": [{\"marker\": {\"line\": {\"color\": \"#E5ECF6\", \"width\": 0.5}}, \"type\": \"barpolar\"}], \"carpet\": [{\"aaxis\": {\"endlinecolor\": \"#2a3f5f\", \"gridcolor\": \"white\", \"linecolor\": \"white\", \"minorgridcolor\": \"white\", \"startlinecolor\": \"#2a3f5f\"}, \"baxis\": {\"endlinecolor\": \"#2a3f5f\", \"gridcolor\": \"white\", \"linecolor\": \"white\", \"minorgridcolor\": \"white\", \"startlinecolor\": \"#2a3f5f\"}, \"type\": \"carpet\"}], \"choropleth\": [{\"colorbar\": {\"outlinewidth\": 0, \"ticks\": \"\"}, \"type\": \"choropleth\"}], \"contour\": [{\"colorbar\": {\"outlinewidth\": 0, \"ticks\": \"\"}, \"colorscale\": [[0.0, \"#0d0887\"], [0.1111111111111111, \"#46039f\"], [0.2222222222222222, \"#7201a8\"], [0.3333333333333333, \"#9c179e\"], [0.4444444444444444, \"#bd3786\"], [0.5555555555555556, \"#d8576b\"], [0.6666666666666666, \"#ed7953\"], [0.7777777777777778, \"#fb9f3a\"], [0.8888888888888888, \"#fdca26\"], [1.0, \"#f0f921\"]], \"type\": \"contour\"}], \"contourcarpet\": [{\"colorbar\": {\"outlinewidth\": 0, \"ticks\": \"\"}, \"type\": \"contourcarpet\"}], \"heatmap\": [{\"colorbar\": {\"outlinewidth\": 0, \"ticks\": \"\"}, \"colorscale\": [[0.0, \"#0d0887\"], [0.1111111111111111, \"#46039f\"], [0.2222222222222222, \"#7201a8\"], [0.3333333333333333, \"#9c179e\"], [0.4444444444444444, \"#bd3786\"], [0.5555555555555556, \"#d8576b\"], [0.6666666666666666, \"#ed7953\"], [0.7777777777777778, \"#fb9f3a\"], [0.8888888888888888, \"#fdca26\"], [1.0, \"#f0f921\"]], \"type\": \"heatmap\"}], \"heatmapgl\": [{\"colorbar\": {\"outlinewidth\": 0, \"ticks\": \"\"}, \"colorscale\": [[0.0, \"#0d0887\"], [0.1111111111111111, \"#46039f\"], [0.2222222222222222, \"#7201a8\"], [0.3333333333333333, \"#9c179e\"], [0.4444444444444444, \"#bd3786\"], [0.5555555555555556, \"#d8576b\"], [0.6666666666666666, \"#ed7953\"], [0.7777777777777778, \"#fb9f3a\"], [0.8888888888888888, \"#fdca26\"], [1.0, \"#f0f921\"]], \"type\": \"heatmapgl\"}], \"histogram\": [{\"marker\": {\"colorbar\": {\"outlinewidth\": 0, \"ticks\": \"\"}}, \"type\": \"histogram\"}], \"histogram2d\": [{\"colorbar\": {\"outlinewidth\": 0, \"ticks\": \"\"}, \"colorscale\": [[0.0, \"#0d0887\"], [0.1111111111111111, \"#46039f\"], [0.2222222222222222, \"#7201a8\"], [0.3333333333333333, \"#9c179e\"], [0.4444444444444444, \"#bd3786\"], [0.5555555555555556, \"#d8576b\"], [0.6666666666666666, \"#ed7953\"], [0.7777777777777778, \"#fb9f3a\"], [0.8888888888888888, \"#fdca26\"], [1.0, \"#f0f921\"]], \"type\": \"histogram2d\"}], \"histogram2dcontour\": [{\"colorbar\": {\"outlinewidth\": 0, \"ticks\": \"\"}, \"colorscale\": [[0.0, \"#0d0887\"], [0.1111111111111111, \"#46039f\"], [0.2222222222222222, \"#7201a8\"], [0.3333333333333333, \"#9c179e\"], [0.4444444444444444, \"#bd3786\"], [0.5555555555555556, \"#d8576b\"], [0.6666666666666666, \"#ed7953\"], [0.7777777777777778, \"#fb9f3a\"], [0.8888888888888888, \"#fdca26\"], [1.0, \"#f0f921\"]], \"type\": \"histogram2dcontour\"}], \"mesh3d\": [{\"colorbar\": {\"outlinewidth\": 0, \"ticks\": \"\"}, \"type\": \"mesh3d\"}], \"parcoords\": [{\"line\": {\"colorbar\": {\"outlinewidth\": 0, \"ticks\": \"\"}}, \"type\": \"parcoords\"}], \"pie\": [{\"automargin\": true, \"type\": \"pie\"}], \"scatter\": [{\"marker\": {\"colorbar\": {\"outlinewidth\": 0, \"ticks\": \"\"}}, \"type\": \"scatter\"}], \"scatter3d\": [{\"line\": {\"colorbar\": {\"outlinewidth\": 0, \"ticks\": \"\"}}, \"marker\": {\"colorbar\": {\"outlinewidth\": 0, \"ticks\": \"\"}}, \"type\": \"scatter3d\"}], \"scattercarpet\": [{\"marker\": {\"colorbar\": {\"outlinewidth\": 0, \"ticks\": \"\"}}, \"type\": \"scattercarpet\"}], \"scattergeo\": [{\"marker\": {\"colorbar\": {\"outlinewidth\": 0, \"ticks\": \"\"}}, \"type\": \"scattergeo\"}], \"scattergl\": [{\"marker\": {\"colorbar\": {\"outlinewidth\": 0, \"ticks\": \"\"}}, \"type\": \"scattergl\"}], \"scattermapbox\": [{\"marker\": {\"colorbar\": {\"outlinewidth\": 0, \"ticks\": \"\"}}, \"type\": \"scattermapbox\"}], \"scatterpolar\": [{\"marker\": {\"colorbar\": {\"outlinewidth\": 0, \"ticks\": \"\"}}, \"type\": \"scatterpolar\"}], \"scatterpolargl\": [{\"marker\": {\"colorbar\": {\"outlinewidth\": 0, \"ticks\": \"\"}}, \"type\": \"scatterpolargl\"}], \"scatterternary\": [{\"marker\": {\"colorbar\": {\"outlinewidth\": 0, \"ticks\": \"\"}}, \"type\": \"scatterternary\"}], \"surface\": [{\"colorbar\": {\"outlinewidth\": 0, \"ticks\": \"\"}, \"colorscale\": [[0.0, \"#0d0887\"], [0.1111111111111111, \"#46039f\"], [0.2222222222222222, \"#7201a8\"], [0.3333333333333333, \"#9c179e\"], [0.4444444444444444, \"#bd3786\"], [0.5555555555555556, \"#d8576b\"], [0.6666666666666666, \"#ed7953\"], [0.7777777777777778, \"#fb9f3a\"], [0.8888888888888888, \"#fdca26\"], [1.0, \"#f0f921\"]], \"type\": \"surface\"}], \"table\": [{\"cells\": {\"fill\": {\"color\": \"#EBF0F8\"}, \"line\": {\"color\": \"white\"}}, \"header\": {\"fill\": {\"color\": \"#C8D4E3\"}, \"line\": {\"color\": \"white\"}}, \"type\": \"table\"}]}, \"layout\": {\"annotationdefaults\": {\"arrowcolor\": \"#2a3f5f\", \"arrowhead\": 0, \"arrowwidth\": 1}, \"coloraxis\": {\"colorbar\": {\"outlinewidth\": 0, \"ticks\": \"\"}}, \"colorscale\": {\"diverging\": [[0, \"#8e0152\"], [0.1, \"#c51b7d\"], [0.2, \"#de77ae\"], [0.3, \"#f1b6da\"], [0.4, \"#fde0ef\"], [0.5, \"#f7f7f7\"], [0.6, \"#e6f5d0\"], [0.7, \"#b8e186\"], [0.8, \"#7fbc41\"], [0.9, \"#4d9221\"], [1, \"#276419\"]], \"sequential\": [[0.0, \"#0d0887\"], [0.1111111111111111, \"#46039f\"], [0.2222222222222222, \"#7201a8\"], [0.3333333333333333, \"#9c179e\"], [0.4444444444444444, \"#bd3786\"], [0.5555555555555556, \"#d8576b\"], [0.6666666666666666, \"#ed7953\"], [0.7777777777777778, \"#fb9f3a\"], [0.8888888888888888, \"#fdca26\"], [1.0, \"#f0f921\"]], \"sequentialminus\": [[0.0, \"#0d0887\"], [0.1111111111111111, \"#46039f\"], [0.2222222222222222, \"#7201a8\"], [0.3333333333333333, \"#9c179e\"], [0.4444444444444444, \"#bd3786\"], [0.5555555555555556, \"#d8576b\"], [0.6666666666666666, \"#ed7953\"], [0.7777777777777778, \"#fb9f3a\"], [0.8888888888888888, \"#fdca26\"], [1.0, \"#f0f921\"]]}, \"colorway\": [\"#636efa\", \"#EF553B\", \"#00cc96\", \"#ab63fa\", \"#FFA15A\", \"#19d3f3\", \"#FF6692\", \"#B6E880\", \"#FF97FF\", \"#FECB52\"], \"font\": {\"color\": \"#2a3f5f\"}, \"geo\": {\"bgcolor\": \"white\", \"lakecolor\": \"white\", \"landcolor\": \"#E5ECF6\", \"showlakes\": true, \"showland\": true, \"subunitcolor\": \"white\"}, \"hoverlabel\": {\"align\": \"left\"}, \"hovermode\": \"closest\", \"mapbox\": {\"style\": \"light\"}, \"paper_bgcolor\": \"white\", \"plot_bgcolor\": \"#E5ECF6\", \"polar\": {\"angularaxis\": {\"gridcolor\": \"white\", \"linecolor\": \"white\", \"ticks\": \"\"}, \"bgcolor\": \"#E5ECF6\", \"radialaxis\": {\"gridcolor\": \"white\", \"linecolor\": \"white\", \"ticks\": \"\"}}, \"scene\": {\"xaxis\": {\"backgroundcolor\": \"#E5ECF6\", \"gridcolor\": \"white\", \"gridwidth\": 2, \"linecolor\": \"white\", \"showbackground\": true, \"ticks\": \"\", \"zerolinecolor\": \"white\"}, \"yaxis\": {\"backgroundcolor\": \"#E5ECF6\", \"gridcolor\": \"white\", \"gridwidth\": 2, \"linecolor\": \"white\", \"showbackground\": true, \"ticks\": \"\", \"zerolinecolor\": \"white\"}, \"zaxis\": {\"backgroundcolor\": \"#E5ECF6\", \"gridcolor\": \"white\", \"gridwidth\": 2, \"linecolor\": \"white\", \"showbackground\": true, \"ticks\": \"\", \"zerolinecolor\": \"white\"}}, \"shapedefaults\": {\"line\": {\"color\": \"#2a3f5f\"}}, \"ternary\": {\"aaxis\": {\"gridcolor\": \"white\", \"linecolor\": \"white\", \"ticks\": \"\"}, \"baxis\": {\"gridcolor\": \"white\", \"linecolor\": \"white\", \"ticks\": \"\"}, \"bgcolor\": \"#E5ECF6\", \"caxis\": {\"gridcolor\": \"white\", \"linecolor\": \"white\", \"ticks\": \"\"}}, \"title\": {\"x\": 0.05}, \"xaxis\": {\"automargin\": true, \"gridcolor\": \"white\", \"linecolor\": \"white\", \"ticks\": \"\", \"title\": {\"standoff\": 15}, \"zerolinecolor\": \"white\", \"zerolinewidth\": 2}, \"yaxis\": {\"automargin\": true, \"gridcolor\": \"white\", \"linecolor\": \"white\", \"ticks\": \"\", \"title\": {\"standoff\": 15}, \"zerolinecolor\": \"white\", \"zerolinewidth\": 2}}}, \"title\": {\"text\": \"Top 8 Covid 19 Recovered Countries\"}, \"xaxis\": {\"anchor\": \"y\", \"domain\": [0.0, 1.0], \"title\": {\"text\": \"x\"}}, \"yaxis\": {\"anchor\": \"x\", \"domain\": [0.0, 1.0], \"title\": {\"text\": \"Total recovered\"}}},\n",
              "                        {\"responsive\": true}\n",
              "                    ).then(function(){\n",
              "                            \n",
              "var gd = document.getElementById('aee53f9b-b77b-43bf-bf37-50f420596b85');\n",
              "var x = new MutationObserver(function (mutations, observer) {{\n",
              "        var display = window.getComputedStyle(gd).display;\n",
              "        if (!display || display === 'none') {{\n",
              "            console.log([gd, 'removed!']);\n",
              "            Plotly.purge(gd);\n",
              "            observer.disconnect();\n",
              "        }}\n",
              "}});\n",
              "\n",
              "// Listen for the removal of the full notebook cells\n",
              "var notebookContainer = gd.closest('#notebook-container');\n",
              "if (notebookContainer) {{\n",
              "    x.observe(notebookContainer, {childList: true});\n",
              "}}\n",
              "\n",
              "// Listen for the clearing of the current output cell\n",
              "var outputEl = gd.closest('.output');\n",
              "if (outputEl) {{\n",
              "    x.observe(outputEl, {childList: true});\n",
              "}}\n",
              "\n",
              "                        })\n",
              "                };\n",
              "                \n",
              "            </script>\n",
              "        </div>\n",
              "</body>\n",
              "</html>"
            ]
          },
          "metadata": {
            "tags": []
          }
        }
      ]
    },
    {
      "cell_type": "code",
      "metadata": {
        "colab": {
          "base_uri": "https://localhost:8080/",
          "height": 351
        },
        "id": "Wy2tZTVyIizR",
        "outputId": "da6bbcf6-ea37-40b4-f2f3-24ff75f4b864"
      },
      "source": [
        " top10_confirmed=pd.DataFrame(data.groupby('Country')['Active cases'].sum().nlargest(10).sort_values(ascending = False))\n",
        "top10_confirmed.reset_index()"
      ],
      "execution_count": null,
      "outputs": [
        {
          "output_type": "execute_result",
          "data": {
            "text/html": [
              "<div>\n",
              "<style scoped>\n",
              "    .dataframe tbody tr th:only-of-type {\n",
              "        vertical-align: middle;\n",
              "    }\n",
              "\n",
              "    .dataframe tbody tr th {\n",
              "        vertical-align: top;\n",
              "    }\n",
              "\n",
              "    .dataframe thead th {\n",
              "        text-align: right;\n",
              "    }\n",
              "</style>\n",
              "<table border=\"1\" class=\"dataframe\">\n",
              "  <thead>\n",
              "    <tr style=\"text-align: right;\">\n",
              "      <th></th>\n",
              "      <th>Country</th>\n",
              "      <th>Active cases</th>\n",
              "    </tr>\n",
              "  </thead>\n",
              "  <tbody>\n",
              "    <tr>\n",
              "      <th>0</th>\n",
              "      <td>USA</td>\n",
              "      <td>5466254.0</td>\n",
              "    </tr>\n",
              "    <tr>\n",
              "      <th>1</th>\n",
              "      <td>UK</td>\n",
              "      <td>1230749.0</td>\n",
              "    </tr>\n",
              "    <tr>\n",
              "      <th>2</th>\n",
              "      <td>Brazil</td>\n",
              "      <td>735479.0</td>\n",
              "    </tr>\n",
              "    <tr>\n",
              "      <th>3</th>\n",
              "      <td>Spain</td>\n",
              "      <td>654358.0</td>\n",
              "    </tr>\n",
              "    <tr>\n",
              "      <th>4</th>\n",
              "      <td>Indonesia</td>\n",
              "      <td>523164.0</td>\n",
              "    </tr>\n",
              "    <tr>\n",
              "      <th>5</th>\n",
              "      <td>Russia</td>\n",
              "      <td>511265.0</td>\n",
              "    </tr>\n",
              "    <tr>\n",
              "      <th>6</th>\n",
              "      <td>Iran</td>\n",
              "      <td>427328.0</td>\n",
              "    </tr>\n",
              "    <tr>\n",
              "      <th>7</th>\n",
              "      <td>India</td>\n",
              "      <td>413683.0</td>\n",
              "    </tr>\n",
              "    <tr>\n",
              "      <th>8</th>\n",
              "      <td>Mexico</td>\n",
              "      <td>398074.0</td>\n",
              "    </tr>\n",
              "    <tr>\n",
              "      <th>9</th>\n",
              "      <td>France</td>\n",
              "      <td>332720.0</td>\n",
              "    </tr>\n",
              "  </tbody>\n",
              "</table>\n",
              "</div>"
            ],
            "text/plain": [
              "     Country  Active cases\n",
              "0        USA     5466254.0\n",
              "1         UK     1230749.0\n",
              "2     Brazil      735479.0\n",
              "3      Spain      654358.0\n",
              "4  Indonesia      523164.0\n",
              "5     Russia      511265.0\n",
              "6       Iran      427328.0\n",
              "7      India      413683.0\n",
              "8     Mexico      398074.0\n",
              "9     France      332720.0"
            ]
          },
          "metadata": {
            "tags": []
          },
          "execution_count": 43
        }
      ]
    },
    {
      "cell_type": "code",
      "metadata": {
        "colab": {
          "base_uri": "https://localhost:8080/",
          "height": 542
        },
        "id": "wH1ynjceQRD-",
        "outputId": "4659df50-ebb6-4bf4-8c5f-dd71f1cba937"
      },
      "source": [
        "# Top 10 countries having active cases (scatter plot)\n",
        "\n",
        "top10_confirmed = pd.DataFrame(data.groupby('Country')['Active cases'].sum().nlargest(10).sort_values(ascending = False))\n",
        "fig = px.scatter(top10_confirmed,x = top10_confirmed.index,  y = 'Active cases', size = 'Active cases', size_max = 100,color = top10_confirmed.index, title = 'Top 10 Confirmed Cases Countries')\n",
        "\n",
        "fig.show()"
      ],
      "execution_count": null,
      "outputs": [
        {
          "output_type": "display_data",
          "data": {
            "text/html": [
              "<html>\n",
              "<head><meta charset=\"utf-8\" /></head>\n",
              "<body>\n",
              "    <div>\n",
              "            <script src=\"https://cdnjs.cloudflare.com/ajax/libs/mathjax/2.7.5/MathJax.js?config=TeX-AMS-MML_SVG\"></script><script type=\"text/javascript\">if (window.MathJax) {MathJax.Hub.Config({SVG: {font: \"STIX-Web\"}});}</script>\n",
              "                <script type=\"text/javascript\">window.PlotlyConfig = {MathJaxConfig: 'local'};</script>\n",
              "        <script src=\"https://cdn.plot.ly/plotly-latest.min.js\"></script>    \n",
              "            <div id=\"3963ab2c-e226-4b03-b927-1a4db36087e6\" class=\"plotly-graph-div\" style=\"height:525px; width:100%;\"></div>\n",
              "            <script type=\"text/javascript\">\n",
              "                \n",
              "                    window.PLOTLYENV=window.PLOTLYENV || {};\n",
              "                    \n",
              "                if (document.getElementById(\"3963ab2c-e226-4b03-b927-1a4db36087e6\")) {\n",
              "                    Plotly.newPlot(\n",
              "                        '3963ab2c-e226-4b03-b927-1a4db36087e6',\n",
              "                        [{\"hoverlabel\": {\"namelength\": 0}, \"hovertemplate\": \"color=USA<br>x=%{x}<br>Active cases=%{marker.size}\", \"legendgroup\": \"color=USA\", \"marker\": {\"color\": \"#636efa\", \"size\": [5466254.0], \"sizemode\": \"area\", \"sizeref\": 546.6254, \"symbol\": \"circle\"}, \"mode\": \"markers\", \"name\": \"color=USA\", \"showlegend\": true, \"type\": \"scatter\", \"x\": [\"USA\"], \"xaxis\": \"x\", \"y\": [5466254.0], \"yaxis\": \"y\"}, {\"hoverlabel\": {\"namelength\": 0}, \"hovertemplate\": \"color=UK<br>x=%{x}<br>Active cases=%{marker.size}\", \"legendgroup\": \"color=UK\", \"marker\": {\"color\": \"#EF553B\", \"size\": [1230749.0], \"sizemode\": \"area\", \"sizeref\": 546.6254, \"symbol\": \"circle\"}, \"mode\": \"markers\", \"name\": \"color=UK\", \"showlegend\": true, \"type\": \"scatter\", \"x\": [\"UK\"], \"xaxis\": \"x\", \"y\": [1230749.0], \"yaxis\": \"y\"}, {\"hoverlabel\": {\"namelength\": 0}, \"hovertemplate\": \"color=Brazil<br>x=%{x}<br>Active cases=%{marker.size}\", \"legendgroup\": \"color=Brazil\", \"marker\": {\"color\": \"#00cc96\", \"size\": [735479.0], \"sizemode\": \"area\", \"sizeref\": 546.6254, \"symbol\": \"circle\"}, \"mode\": \"markers\", \"name\": \"color=Brazil\", \"showlegend\": true, \"type\": \"scatter\", \"x\": [\"Brazil\"], \"xaxis\": \"x\", \"y\": [735479.0], \"yaxis\": \"y\"}, {\"hoverlabel\": {\"namelength\": 0}, \"hovertemplate\": \"color=Spain<br>x=%{x}<br>Active cases=%{marker.size}\", \"legendgroup\": \"color=Spain\", \"marker\": {\"color\": \"#ab63fa\", \"size\": [654358.0], \"sizemode\": \"area\", \"sizeref\": 546.6254, \"symbol\": \"circle\"}, \"mode\": \"markers\", \"name\": \"color=Spain\", \"showlegend\": true, \"type\": \"scatter\", \"x\": [\"Spain\"], \"xaxis\": \"x\", \"y\": [654358.0], \"yaxis\": \"y\"}, {\"hoverlabel\": {\"namelength\": 0}, \"hovertemplate\": \"color=Indonesia<br>x=%{x}<br>Active cases=%{marker.size}\", \"legendgroup\": \"color=Indonesia\", \"marker\": {\"color\": \"#FFA15A\", \"size\": [523164.0], \"sizemode\": \"area\", \"sizeref\": 546.6254, \"symbol\": \"circle\"}, \"mode\": \"markers\", \"name\": \"color=Indonesia\", \"showlegend\": true, \"type\": \"scatter\", \"x\": [\"Indonesia\"], \"xaxis\": \"x\", \"y\": [523164.0], \"yaxis\": \"y\"}, {\"hoverlabel\": {\"namelength\": 0}, \"hovertemplate\": \"color=Russia<br>x=%{x}<br>Active cases=%{marker.size}\", \"legendgroup\": \"color=Russia\", \"marker\": {\"color\": \"#19d3f3\", \"size\": [511265.0], \"sizemode\": \"area\", \"sizeref\": 546.6254, \"symbol\": \"circle\"}, \"mode\": \"markers\", \"name\": \"color=Russia\", \"showlegend\": true, \"type\": \"scatter\", \"x\": [\"Russia\"], \"xaxis\": \"x\", \"y\": [511265.0], \"yaxis\": \"y\"}, {\"hoverlabel\": {\"namelength\": 0}, \"hovertemplate\": \"color=Iran<br>x=%{x}<br>Active cases=%{marker.size}\", \"legendgroup\": \"color=Iran\", \"marker\": {\"color\": \"#FF6692\", \"size\": [427328.0], \"sizemode\": \"area\", \"sizeref\": 546.6254, \"symbol\": \"circle\"}, \"mode\": \"markers\", \"name\": \"color=Iran\", \"showlegend\": true, \"type\": \"scatter\", \"x\": [\"Iran\"], \"xaxis\": \"x\", \"y\": [427328.0], \"yaxis\": \"y\"}, {\"hoverlabel\": {\"namelength\": 0}, \"hovertemplate\": \"color=India<br>x=%{x}<br>Active cases=%{marker.size}\", \"legendgroup\": \"color=India\", \"marker\": {\"color\": \"#B6E880\", \"size\": [413683.0], \"sizemode\": \"area\", \"sizeref\": 546.6254, \"symbol\": \"circle\"}, \"mode\": \"markers\", \"name\": \"color=India\", \"showlegend\": true, \"type\": \"scatter\", \"x\": [\"India\"], \"xaxis\": \"x\", \"y\": [413683.0], \"yaxis\": \"y\"}, {\"hoverlabel\": {\"namelength\": 0}, \"hovertemplate\": \"color=Mexico<br>x=%{x}<br>Active cases=%{marker.size}\", \"legendgroup\": \"color=Mexico\", \"marker\": {\"color\": \"#FF97FF\", \"size\": [398074.0], \"sizemode\": \"area\", \"sizeref\": 546.6254, \"symbol\": \"circle\"}, \"mode\": \"markers\", \"name\": \"color=Mexico\", \"showlegend\": true, \"type\": \"scatter\", \"x\": [\"Mexico\"], \"xaxis\": \"x\", \"y\": [398074.0], \"yaxis\": \"y\"}, {\"hoverlabel\": {\"namelength\": 0}, \"hovertemplate\": \"color=France<br>x=%{x}<br>Active cases=%{marker.size}\", \"legendgroup\": \"color=France\", \"marker\": {\"color\": \"#FECB52\", \"size\": [332720.0], \"sizemode\": \"area\", \"sizeref\": 546.6254, \"symbol\": \"circle\"}, \"mode\": \"markers\", \"name\": \"color=France\", \"showlegend\": true, \"type\": \"scatter\", \"x\": [\"France\"], \"xaxis\": \"x\", \"y\": [332720.0], \"yaxis\": \"y\"}],\n",
              "                        {\"legend\": {\"itemsizing\": \"constant\", \"tracegroupgap\": 0}, \"template\": {\"data\": {\"bar\": [{\"error_x\": {\"color\": \"#2a3f5f\"}, \"error_y\": {\"color\": \"#2a3f5f\"}, \"marker\": {\"line\": {\"color\": \"#E5ECF6\", \"width\": 0.5}}, \"type\": \"bar\"}], \"barpolar\": [{\"marker\": {\"line\": {\"color\": \"#E5ECF6\", \"width\": 0.5}}, \"type\": \"barpolar\"}], \"carpet\": [{\"aaxis\": {\"endlinecolor\": \"#2a3f5f\", \"gridcolor\": \"white\", \"linecolor\": \"white\", \"minorgridcolor\": \"white\", \"startlinecolor\": \"#2a3f5f\"}, \"baxis\": {\"endlinecolor\": \"#2a3f5f\", \"gridcolor\": \"white\", \"linecolor\": \"white\", \"minorgridcolor\": \"white\", \"startlinecolor\": \"#2a3f5f\"}, \"type\": \"carpet\"}], \"choropleth\": [{\"colorbar\": {\"outlinewidth\": 0, \"ticks\": \"\"}, \"type\": \"choropleth\"}], \"contour\": [{\"colorbar\": {\"outlinewidth\": 0, \"ticks\": \"\"}, \"colorscale\": [[0.0, \"#0d0887\"], [0.1111111111111111, \"#46039f\"], [0.2222222222222222, \"#7201a8\"], [0.3333333333333333, \"#9c179e\"], [0.4444444444444444, \"#bd3786\"], [0.5555555555555556, \"#d8576b\"], [0.6666666666666666, \"#ed7953\"], [0.7777777777777778, \"#fb9f3a\"], [0.8888888888888888, \"#fdca26\"], [1.0, \"#f0f921\"]], \"type\": \"contour\"}], \"contourcarpet\": [{\"colorbar\": {\"outlinewidth\": 0, \"ticks\": \"\"}, \"type\": \"contourcarpet\"}], \"heatmap\": [{\"colorbar\": {\"outlinewidth\": 0, \"ticks\": \"\"}, \"colorscale\": [[0.0, \"#0d0887\"], [0.1111111111111111, \"#46039f\"], [0.2222222222222222, \"#7201a8\"], [0.3333333333333333, \"#9c179e\"], [0.4444444444444444, \"#bd3786\"], [0.5555555555555556, \"#d8576b\"], [0.6666666666666666, \"#ed7953\"], [0.7777777777777778, \"#fb9f3a\"], [0.8888888888888888, \"#fdca26\"], [1.0, \"#f0f921\"]], \"type\": \"heatmap\"}], \"heatmapgl\": [{\"colorbar\": {\"outlinewidth\": 0, \"ticks\": \"\"}, \"colorscale\": [[0.0, \"#0d0887\"], [0.1111111111111111, \"#46039f\"], [0.2222222222222222, \"#7201a8\"], [0.3333333333333333, \"#9c179e\"], [0.4444444444444444, \"#bd3786\"], [0.5555555555555556, \"#d8576b\"], [0.6666666666666666, \"#ed7953\"], [0.7777777777777778, \"#fb9f3a\"], [0.8888888888888888, \"#fdca26\"], [1.0, \"#f0f921\"]], \"type\": \"heatmapgl\"}], \"histogram\": [{\"marker\": {\"colorbar\": {\"outlinewidth\": 0, \"ticks\": \"\"}}, \"type\": \"histogram\"}], \"histogram2d\": [{\"colorbar\": {\"outlinewidth\": 0, \"ticks\": \"\"}, \"colorscale\": [[0.0, \"#0d0887\"], [0.1111111111111111, \"#46039f\"], [0.2222222222222222, \"#7201a8\"], [0.3333333333333333, \"#9c179e\"], [0.4444444444444444, \"#bd3786\"], [0.5555555555555556, \"#d8576b\"], [0.6666666666666666, \"#ed7953\"], [0.7777777777777778, \"#fb9f3a\"], [0.8888888888888888, \"#fdca26\"], [1.0, \"#f0f921\"]], \"type\": \"histogram2d\"}], \"histogram2dcontour\": [{\"colorbar\": {\"outlinewidth\": 0, \"ticks\": \"\"}, \"colorscale\": [[0.0, \"#0d0887\"], [0.1111111111111111, \"#46039f\"], [0.2222222222222222, \"#7201a8\"], [0.3333333333333333, \"#9c179e\"], [0.4444444444444444, \"#bd3786\"], [0.5555555555555556, \"#d8576b\"], [0.6666666666666666, \"#ed7953\"], [0.7777777777777778, \"#fb9f3a\"], [0.8888888888888888, \"#fdca26\"], [1.0, \"#f0f921\"]], \"type\": \"histogram2dcontour\"}], \"mesh3d\": [{\"colorbar\": {\"outlinewidth\": 0, \"ticks\": \"\"}, \"type\": \"mesh3d\"}], \"parcoords\": [{\"line\": {\"colorbar\": {\"outlinewidth\": 0, \"ticks\": \"\"}}, \"type\": \"parcoords\"}], \"pie\": [{\"automargin\": true, \"type\": \"pie\"}], \"scatter\": [{\"marker\": {\"colorbar\": {\"outlinewidth\": 0, \"ticks\": \"\"}}, \"type\": \"scatter\"}], \"scatter3d\": [{\"line\": {\"colorbar\": {\"outlinewidth\": 0, \"ticks\": \"\"}}, \"marker\": {\"colorbar\": {\"outlinewidth\": 0, \"ticks\": \"\"}}, \"type\": \"scatter3d\"}], \"scattercarpet\": [{\"marker\": {\"colorbar\": {\"outlinewidth\": 0, \"ticks\": \"\"}}, \"type\": \"scattercarpet\"}], \"scattergeo\": [{\"marker\": {\"colorbar\": {\"outlinewidth\": 0, \"ticks\": \"\"}}, \"type\": \"scattergeo\"}], \"scattergl\": [{\"marker\": {\"colorbar\": {\"outlinewidth\": 0, \"ticks\": \"\"}}, \"type\": \"scattergl\"}], \"scattermapbox\": [{\"marker\": {\"colorbar\": {\"outlinewidth\": 0, \"ticks\": \"\"}}, \"type\": \"scattermapbox\"}], \"scatterpolar\": [{\"marker\": {\"colorbar\": {\"outlinewidth\": 0, \"ticks\": \"\"}}, \"type\": \"scatterpolar\"}], \"scatterpolargl\": [{\"marker\": {\"colorbar\": {\"outlinewidth\": 0, \"ticks\": \"\"}}, \"type\": \"scatterpolargl\"}], \"scatterternary\": [{\"marker\": {\"colorbar\": {\"outlinewidth\": 0, \"ticks\": \"\"}}, \"type\": \"scatterternary\"}], \"surface\": [{\"colorbar\": {\"outlinewidth\": 0, \"ticks\": \"\"}, \"colorscale\": [[0.0, \"#0d0887\"], [0.1111111111111111, \"#46039f\"], [0.2222222222222222, \"#7201a8\"], [0.3333333333333333, \"#9c179e\"], [0.4444444444444444, \"#bd3786\"], [0.5555555555555556, \"#d8576b\"], [0.6666666666666666, \"#ed7953\"], [0.7777777777777778, \"#fb9f3a\"], [0.8888888888888888, \"#fdca26\"], [1.0, \"#f0f921\"]], \"type\": \"surface\"}], \"table\": [{\"cells\": {\"fill\": {\"color\": \"#EBF0F8\"}, \"line\": {\"color\": \"white\"}}, \"header\": {\"fill\": {\"color\": \"#C8D4E3\"}, \"line\": {\"color\": \"white\"}}, \"type\": \"table\"}]}, \"layout\": {\"annotationdefaults\": {\"arrowcolor\": \"#2a3f5f\", \"arrowhead\": 0, \"arrowwidth\": 1}, \"coloraxis\": {\"colorbar\": {\"outlinewidth\": 0, \"ticks\": \"\"}}, \"colorscale\": {\"diverging\": [[0, \"#8e0152\"], [0.1, \"#c51b7d\"], [0.2, \"#de77ae\"], [0.3, \"#f1b6da\"], [0.4, \"#fde0ef\"], [0.5, \"#f7f7f7\"], [0.6, \"#e6f5d0\"], [0.7, \"#b8e186\"], [0.8, \"#7fbc41\"], [0.9, \"#4d9221\"], [1, \"#276419\"]], \"sequential\": [[0.0, \"#0d0887\"], [0.1111111111111111, \"#46039f\"], [0.2222222222222222, \"#7201a8\"], [0.3333333333333333, \"#9c179e\"], [0.4444444444444444, \"#bd3786\"], [0.5555555555555556, \"#d8576b\"], [0.6666666666666666, \"#ed7953\"], [0.7777777777777778, \"#fb9f3a\"], [0.8888888888888888, \"#fdca26\"], [1.0, \"#f0f921\"]], \"sequentialminus\": [[0.0, \"#0d0887\"], [0.1111111111111111, \"#46039f\"], [0.2222222222222222, \"#7201a8\"], [0.3333333333333333, \"#9c179e\"], [0.4444444444444444, \"#bd3786\"], [0.5555555555555556, \"#d8576b\"], [0.6666666666666666, \"#ed7953\"], [0.7777777777777778, \"#fb9f3a\"], [0.8888888888888888, \"#fdca26\"], [1.0, \"#f0f921\"]]}, \"colorway\": [\"#636efa\", \"#EF553B\", \"#00cc96\", \"#ab63fa\", \"#FFA15A\", \"#19d3f3\", \"#FF6692\", \"#B6E880\", \"#FF97FF\", \"#FECB52\"], \"font\": {\"color\": \"#2a3f5f\"}, \"geo\": {\"bgcolor\": \"white\", \"lakecolor\": \"white\", \"landcolor\": \"#E5ECF6\", \"showlakes\": true, \"showland\": true, \"subunitcolor\": \"white\"}, \"hoverlabel\": {\"align\": \"left\"}, \"hovermode\": \"closest\", \"mapbox\": {\"style\": \"light\"}, \"paper_bgcolor\": \"white\", \"plot_bgcolor\": \"#E5ECF6\", \"polar\": {\"angularaxis\": {\"gridcolor\": \"white\", \"linecolor\": \"white\", \"ticks\": \"\"}, \"bgcolor\": \"#E5ECF6\", \"radialaxis\": {\"gridcolor\": \"white\", \"linecolor\": \"white\", \"ticks\": \"\"}}, \"scene\": {\"xaxis\": {\"backgroundcolor\": \"#E5ECF6\", \"gridcolor\": \"white\", \"gridwidth\": 2, \"linecolor\": \"white\", \"showbackground\": true, \"ticks\": \"\", \"zerolinecolor\": \"white\"}, \"yaxis\": {\"backgroundcolor\": \"#E5ECF6\", \"gridcolor\": \"white\", \"gridwidth\": 2, \"linecolor\": \"white\", \"showbackground\": true, \"ticks\": \"\", \"zerolinecolor\": \"white\"}, \"zaxis\": {\"backgroundcolor\": \"#E5ECF6\", \"gridcolor\": \"white\", \"gridwidth\": 2, \"linecolor\": \"white\", \"showbackground\": true, \"ticks\": \"\", \"zerolinecolor\": \"white\"}}, \"shapedefaults\": {\"line\": {\"color\": \"#2a3f5f\"}}, \"ternary\": {\"aaxis\": {\"gridcolor\": \"white\", \"linecolor\": \"white\", \"ticks\": \"\"}, \"baxis\": {\"gridcolor\": \"white\", \"linecolor\": \"white\", \"ticks\": \"\"}, \"bgcolor\": \"#E5ECF6\", \"caxis\": {\"gridcolor\": \"white\", \"linecolor\": \"white\", \"ticks\": \"\"}}, \"title\": {\"x\": 0.05}, \"xaxis\": {\"automargin\": true, \"gridcolor\": \"white\", \"linecolor\": \"white\", \"ticks\": \"\", \"title\": {\"standoff\": 15}, \"zerolinecolor\": \"white\", \"zerolinewidth\": 2}, \"yaxis\": {\"automargin\": true, \"gridcolor\": \"white\", \"linecolor\": \"white\", \"ticks\": \"\", \"title\": {\"standoff\": 15}, \"zerolinecolor\": \"white\", \"zerolinewidth\": 2}}}, \"title\": {\"text\": \"Top 10 Confirmed Cases Countries\"}, \"xaxis\": {\"anchor\": \"y\", \"domain\": [0.0, 1.0], \"title\": {\"text\": \"x\"}}, \"yaxis\": {\"anchor\": \"x\", \"domain\": [0.0, 1.0], \"title\": {\"text\": \"Active cases\"}}},\n",
              "                        {\"responsive\": true}\n",
              "                    ).then(function(){\n",
              "                            \n",
              "var gd = document.getElementById('3963ab2c-e226-4b03-b927-1a4db36087e6');\n",
              "var x = new MutationObserver(function (mutations, observer) {{\n",
              "        var display = window.getComputedStyle(gd).display;\n",
              "        if (!display || display === 'none') {{\n",
              "            console.log([gd, 'removed!']);\n",
              "            Plotly.purge(gd);\n",
              "            observer.disconnect();\n",
              "        }}\n",
              "}});\n",
              "\n",
              "// Listen for the removal of the full notebook cells\n",
              "var notebookContainer = gd.closest('#notebook-container');\n",
              "if (notebookContainer) {{\n",
              "    x.observe(notebookContainer, {childList: true});\n",
              "}}\n",
              "\n",
              "// Listen for the clearing of the current output cell\n",
              "var outputEl = gd.closest('.output');\n",
              "if (outputEl) {{\n",
              "    x.observe(outputEl, {childList: true});\n",
              "}}\n",
              "\n",
              "                        })\n",
              "                };\n",
              "                \n",
              "            </script>\n",
              "        </div>\n",
              "</body>\n",
              "</html>"
            ]
          },
          "metadata": {
            "tags": []
          }
        }
      ]
    },
    {
      "cell_type": "code",
      "metadata": {
        "colab": {
          "base_uri": "https://localhost:8080/",
          "height": 386
        },
        "id": "y-Wap3YpSUlX",
        "outputId": "2e2f62af-ec35-436e-e0cb-84f812c1626a"
      },
      "source": [
        "# Show Serious/critical of first 6 countries\n",
        "Country=data.groupby('Country')['Serious/critical'].sum().sort_values(ascending=False).head(6)\n",
        "plt.xlabel(\"Country\")\n",
        "plt.ylabel(\"Serious/critical\")\n",
        "plt.title(\"Show Serious/critical cases of first 6 countries\")\n",
        "Country.plot.bar(figsize=(15,5),color=['yellow','red','green','magenta','blue','black','brown'])\n",
        "plt.show()"
      ],
      "execution_count": null,
      "outputs": [
        {
          "output_type": "display_data",
          "data": {
            "image/png": "[encoded data removed]",
            "text/plain": [
              "<Figure size 1080x360 with 1 Axes>"
            ]
          },
          "metadata": {
            "tags": [],
            "needs_background": "light"
          }
        }
      ]
    },
    {
      "cell_type": "markdown",
      "metadata": {
        "id": "oUBn_9EtwcC5"
      },
      "source": [
        "#Load a data frame having continent wise covid data  "
      ]
    },
    {
      "cell_type": "code",
      "metadata": {
        "colab": {
          "base_uri": "https://localhost:8080/",
          "height": 235
        },
        "id": "D6dpv9cZA1qt",
        "outputId": "767cac15-5b49-4a5a-dc1f-719653964eee"
      },
      "source": [
        "continentdf=data.groupby('Continent').sum()\n",
        "continentdf=continentdf.reset_index()\n",
        "continentdf"
      ],
      "execution_count": null,
      "outputs": [
        {
          "output_type": "execute_result",
          "data": {
            "text/html": [
              "<div>\n",
              "<style scoped>\n",
              "    .dataframe tbody tr th:only-of-type {\n",
              "        vertical-align: middle;\n",
              "    }\n",
              "\n",
              "    .dataframe tbody tr th {\n",
              "        vertical-align: top;\n",
              "    }\n",
              "\n",
              "    .dataframe thead th {\n",
              "        text-align: right;\n",
              "    }\n",
              "</style>\n",
              "<table border=\"1\" class=\"dataframe\">\n",
              "  <thead>\n",
              "    <tr style=\"text-align: right;\">\n",
              "      <th></th>\n",
              "      <th>Continent</th>\n",
              "      <th>Total cases</th>\n",
              "      <th>New cases</th>\n",
              "      <th>Total Deaths</th>\n",
              "      <th>New Deaths</th>\n",
              "      <th>Total recovered</th>\n",
              "      <th>New recovered</th>\n",
              "      <th>Active cases</th>\n",
              "      <th>Serious/critical</th>\n",
              "      <th>Total cases/1M</th>\n",
              "      <th>Death/1M</th>\n",
              "      <th>Total tests</th>\n",
              "      <th>Test/1M</th>\n",
              "      <th>Population</th>\n",
              "    </tr>\n",
              "  </thead>\n",
              "  <tbody>\n",
              "    <tr>\n",
              "      <th>0</th>\n",
              "      <td>Africa</td>\n",
              "      <td>6803092</td>\n",
              "      <td>5700.0</td>\n",
              "      <td>171479.0</td>\n",
              "      <td>189.0</td>\n",
              "      <td>5936884.0</td>\n",
              "      <td>4207.0</td>\n",
              "      <td>694729.0</td>\n",
              "      <td>4215.0</td>\n",
              "      <td>753437</td>\n",
              "      <td>11253.0</td>\n",
              "      <td>5.969898e+07</td>\n",
              "      <td>5576010.0</td>\n",
              "      <td>1375189545</td>\n",
              "    </tr>\n",
              "    <tr>\n",
              "      <th>1</th>\n",
              "      <td>Asia</td>\n",
              "      <td>62380090</td>\n",
              "      <td>99301.0</td>\n",
              "      <td>902861.0</td>\n",
              "      <td>2142.0</td>\n",
              "      <td>58322838.0</td>\n",
              "      <td>93297.0</td>\n",
              "      <td>3154390.0</td>\n",
              "      <td>34278.0</td>\n",
              "      <td>1682193</td>\n",
              "      <td>16466.9</td>\n",
              "      <td>1.105471e+09</td>\n",
              "      <td>41403385.0</td>\n",
              "      <td>4646181446</td>\n",
              "    </tr>\n",
              "    <tr>\n",
              "      <th>2</th>\n",
              "      <td>Australia/Oceania</td>\n",
              "      <td>105799</td>\n",
              "      <td>226.0</td>\n",
              "      <td>1532.0</td>\n",
              "      <td>-4.0</td>\n",
              "      <td>77270.0</td>\n",
              "      <td>-2.0</td>\n",
              "      <td>26996.0</td>\n",
              "      <td>109.0</td>\n",
              "      <td>108908</td>\n",
              "      <td>855.0</td>\n",
              "      <td>2.833754e+07</td>\n",
              "      <td>2072123.0</td>\n",
              "      <td>41426456</td>\n",
              "    </tr>\n",
              "    <tr>\n",
              "      <th>3</th>\n",
              "      <td>Europe</td>\n",
              "      <td>51610072</td>\n",
              "      <td>25380.0</td>\n",
              "      <td>1134987.0</td>\n",
              "      <td>758.0</td>\n",
              "      <td>46892252.0</td>\n",
              "      <td>18919.0</td>\n",
              "      <td>3582833.0</td>\n",
              "      <td>7935.0</td>\n",
              "      <td>3791091</td>\n",
              "      <td>69987.0</td>\n",
              "      <td>1.081801e+09</td>\n",
              "      <td>95288489.0</td>\n",
              "      <td>748118744</td>\n",
              "    </tr>\n",
              "    <tr>\n",
              "      <th>4</th>\n",
              "      <td>North America</td>\n",
              "      <td>42634503</td>\n",
              "      <td>6725.0</td>\n",
              "      <td>941194.0</td>\n",
              "      <td>101.0</td>\n",
              "      <td>35385038.0</td>\n",
              "      <td>-36.0</td>\n",
              "      <td>6308267.0</td>\n",
              "      <td>18554.0</td>\n",
              "      <td>1512648</td>\n",
              "      <td>20820.0</td>\n",
              "      <td>5.976329e+08</td>\n",
              "      <td>36298043.0</td>\n",
              "      <td>594102291</td>\n",
              "    </tr>\n",
              "    <tr>\n",
              "      <th>5</th>\n",
              "      <td>South America</td>\n",
              "      <td>35579288</td>\n",
              "      <td>381.0</td>\n",
              "      <td>1091089.0</td>\n",
              "      <td>6.0</td>\n",
              "      <td>31378314.0</td>\n",
              "      <td>633.0</td>\n",
              "      <td>1193120.0</td>\n",
              "      <td>25353.0</td>\n",
              "      <td>861027</td>\n",
              "      <td>24559.0</td>\n",
              "      <td>1.439131e+08</td>\n",
              "      <td>5549060.0</td>\n",
              "      <td>434600584</td>\n",
              "    </tr>\n",
              "  </tbody>\n",
              "</table>\n",
              "</div>"
            ],
            "text/plain": [
              "           Continent  Total cases  ...     Test/1M  Population\n",
              "0             Africa      6803092  ...   5576010.0  1375189545\n",
              "1               Asia     62380090  ...  41403385.0  4646181446\n",
              "2  Australia/Oceania       105799  ...   2072123.0    41426456\n",
              "3             Europe     51610072  ...  95288489.0   748118744\n",
              "4      North America     42634503  ...  36298043.0   594102291\n",
              "5      South America     35579288  ...   5549060.0   434600584\n",
              "\n",
              "[6 rows x 14 columns]"
            ]
          },
          "metadata": {
            "tags": []
          },
          "execution_count": 35
        }
      ]
    },
    {
      "cell_type": "code",
      "metadata": {
        "colab": {
          "base_uri": "https://localhost:8080/",
          "height": 617
        },
        "id": "a8JJ3-AydEeu",
        "outputId": "b6ed8ea4-6e22-4937-f0fe-b5205bcdd1e6"
      },
      "source": [
        "top10_deaths = pd.DataFrame(continentdf.groupby('Continent')['New cases'].sum().nlargest(10).sort_values(ascending = True))\n",
        "top10_deaths\n",
        "fig2 = px.bar(top10_deaths, x = 'New cases', y = top10_deaths.index, height = 600, color = 'New cases', orientation = 'h',color_continuous_scale = ['deepskyblue','red'], title = 'New cases of Continents')\n",
        "fig2.show()"
      ],
      "execution_count": null,
      "outputs": [
        {
          "output_type": "display_data",
          "data": {
            "text/html": [
              "<html>\n",
              "<head><meta charset=\"utf-8\" /></head>\n",
              "<body>\n",
              "    <div>\n",
              "            <script src=\"https://cdnjs.cloudflare.com/ajax/libs/mathjax/2.7.5/MathJax.js?config=TeX-AMS-MML_SVG\"></script><script type=\"text/javascript\">if (window.MathJax) {MathJax.Hub.Config({SVG: {font: \"STIX-Web\"}});}</script>\n",
              "                <script type=\"text/javascript\">window.PlotlyConfig = {MathJaxConfig: 'local'};</script>\n",
              "        <script src=\"https://cdn.plot.ly/plotly-latest.min.js\"></script>    \n",
              "            <div id=\"50ca0d0b-1399-4358-accf-6f932dc22faa\" class=\"plotly-graph-div\" style=\"height:600px; width:100%;\"></div>\n",
              "            <script type=\"text/javascript\">\n",
              "                \n",
              "                    window.PLOTLYENV=window.PLOTLYENV || {};\n",
              "                    \n",
              "                if (document.getElementById(\"50ca0d0b-1399-4358-accf-6f932dc22faa\")) {\n",
              "                    Plotly.newPlot(\n",
              "                        '50ca0d0b-1399-4358-accf-6f932dc22faa',\n",
              "                        [{\"alignmentgroup\": \"True\", \"hoverlabel\": {\"namelength\": 0}, \"hovertemplate\": \"New cases=%{marker.color}<br>y=%{y}\", \"legendgroup\": \"\", \"marker\": {\"color\": [226.0, 381.0, 5700.0, 6725.0, 25380.0, 99301.0], \"coloraxis\": \"coloraxis\"}, \"name\": \"\", \"offsetgroup\": \"\", \"orientation\": \"h\", \"showlegend\": false, \"textposition\": \"auto\", \"type\": \"bar\", \"x\": [226.0, 381.0, 5700.0, 6725.0, 25380.0, 99301.0], \"xaxis\": \"x\", \"y\": [\"Australia/Oceania\", \"South America\", \"Africa\", \"North America\", \"Europe\", \"Asia\"], \"yaxis\": \"y\"}],\n",
              "                        {\"barmode\": \"relative\", \"coloraxis\": {\"colorbar\": {\"title\": {\"text\": \"New cases\"}}, \"colorscale\": [[0.0, \"deepskyblue\"], [1.0, \"red\"]]}, \"height\": 600, \"legend\": {\"tracegroupgap\": 0}, \"template\": {\"data\": {\"bar\": [{\"error_x\": {\"color\": \"#2a3f5f\"}, \"error_y\": {\"color\": \"#2a3f5f\"}, \"marker\": {\"line\": {\"color\": \"#E5ECF6\", \"width\": 0.5}}, \"type\": \"bar\"}], \"barpolar\": [{\"marker\": {\"line\": {\"color\": \"#E5ECF6\", \"width\": 0.5}}, \"type\": \"barpolar\"}], \"carpet\": [{\"aaxis\": {\"endlinecolor\": \"#2a3f5f\", \"gridcolor\": \"white\", \"linecolor\": \"white\", \"minorgridcolor\": \"white\", \"startlinecolor\": \"#2a3f5f\"}, \"baxis\": {\"endlinecolor\": \"#2a3f5f\", \"gridcolor\": \"white\", \"linecolor\": \"white\", \"minorgridcolor\": \"white\", \"startlinecolor\": \"#2a3f5f\"}, \"type\": \"carpet\"}], \"choropleth\": [{\"colorbar\": {\"outlinewidth\": 0, \"ticks\": \"\"}, \"type\": \"choropleth\"}], \"contour\": [{\"colorbar\": {\"outlinewidth\": 0, \"ticks\": \"\"}, \"colorscale\": [[0.0, \"#0d0887\"], [0.1111111111111111, \"#46039f\"], [0.2222222222222222, \"#7201a8\"], [0.3333333333333333, \"#9c179e\"], [0.4444444444444444, \"#bd3786\"], [0.5555555555555556, \"#d8576b\"], [0.6666666666666666, \"#ed7953\"], [0.7777777777777778, \"#fb9f3a\"], [0.8888888888888888, \"#fdca26\"], [1.0, \"#f0f921\"]], \"type\": \"contour\"}], \"contourcarpet\": [{\"colorbar\": {\"outlinewidth\": 0, \"ticks\": \"\"}, \"type\": \"contourcarpet\"}], \"heatmap\": [{\"colorbar\": {\"outlinewidth\": 0, \"ticks\": \"\"}, \"colorscale\": [[0.0, \"#0d0887\"], [0.1111111111111111, \"#46039f\"], [0.2222222222222222, \"#7201a8\"], [0.3333333333333333, \"#9c179e\"], [0.4444444444444444, \"#bd3786\"], [0.5555555555555556, \"#d8576b\"], [0.6666666666666666, \"#ed7953\"], [0.7777777777777778, \"#fb9f3a\"], [0.8888888888888888, \"#fdca26\"], [1.0, \"#f0f921\"]], \"type\": \"heatmap\"}], \"heatmapgl\": [{\"colorbar\": {\"outlinewidth\": 0, \"ticks\": \"\"}, \"colorscale\": [[0.0, \"#0d0887\"], [0.1111111111111111, \"#46039f\"], [0.2222222222222222, \"#7201a8\"], [0.3333333333333333, \"#9c179e\"], [0.4444444444444444, \"#bd3786\"], [0.5555555555555556, \"#d8576b\"], [0.6666666666666666, \"#ed7953\"], [0.7777777777777778, \"#fb9f3a\"], [0.8888888888888888, \"#fdca26\"], [1.0, \"#f0f921\"]], \"type\": \"heatmapgl\"}], \"histogram\": [{\"marker\": {\"colorbar\": {\"outlinewidth\": 0, \"ticks\": \"\"}}, \"type\": \"histogram\"}], \"histogram2d\": [{\"colorbar\": {\"outlinewidth\": 0, \"ticks\": \"\"}, \"colorscale\": [[0.0, \"#0d0887\"], [0.1111111111111111, \"#46039f\"], [0.2222222222222222, \"#7201a8\"], [0.3333333333333333, \"#9c179e\"], [0.4444444444444444, \"#bd3786\"], [0.5555555555555556, \"#d8576b\"], [0.6666666666666666, \"#ed7953\"], [0.7777777777777778, \"#fb9f3a\"], [0.8888888888888888, \"#fdca26\"], [1.0, \"#f0f921\"]], \"type\": \"histogram2d\"}], \"histogram2dcontour\": [{\"colorbar\": {\"outlinewidth\": 0, \"ticks\": \"\"}, \"colorscale\": [[0.0, \"#0d0887\"], [0.1111111111111111, \"#46039f\"], [0.2222222222222222, \"#7201a8\"], [0.3333333333333333, \"#9c179e\"], [0.4444444444444444, \"#bd3786\"], [0.5555555555555556, \"#d8576b\"], [0.6666666666666666, \"#ed7953\"], [0.7777777777777778, \"#fb9f3a\"], [0.8888888888888888, \"#fdca26\"], [1.0, \"#f0f921\"]], \"type\": \"histogram2dcontour\"}], \"mesh3d\": [{\"colorbar\": {\"outlinewidth\": 0, \"ticks\": \"\"}, \"type\": \"mesh3d\"}], \"parcoords\": [{\"line\": {\"colorbar\": {\"outlinewidth\": 0, \"ticks\": \"\"}}, \"type\": \"parcoords\"}], \"pie\": [{\"automargin\": true, \"type\": \"pie\"}], \"scatter\": [{\"marker\": {\"colorbar\": {\"outlinewidth\": 0, \"ticks\": \"\"}}, \"type\": \"scatter\"}], \"scatter3d\": [{\"line\": {\"colorbar\": {\"outlinewidth\": 0, \"ticks\": \"\"}}, \"marker\": {\"colorbar\": {\"outlinewidth\": 0, \"ticks\": \"\"}}, \"type\": \"scatter3d\"}], \"scattercarpet\": [{\"marker\": {\"colorbar\": {\"outlinewidth\": 0, \"ticks\": \"\"}}, \"type\": \"scattercarpet\"}], \"scattergeo\": [{\"marker\": {\"colorbar\": {\"outlinewidth\": 0, \"ticks\": \"\"}}, \"type\": \"scattergeo\"}], \"scattergl\": [{\"marker\": {\"colorbar\": {\"outlinewidth\": 0, \"ticks\": \"\"}}, \"type\": \"scattergl\"}], \"scattermapbox\": [{\"marker\": {\"colorbar\": {\"outlinewidth\": 0, \"ticks\": \"\"}}, \"type\": \"scattermapbox\"}], \"scatterpolar\": [{\"marker\": {\"colorbar\": {\"outlinewidth\": 0, \"ticks\": \"\"}}, \"type\": \"scatterpolar\"}], \"scatterpolargl\": [{\"marker\": {\"colorbar\": {\"outlinewidth\": 0, \"ticks\": \"\"}}, \"type\": \"scatterpolargl\"}], \"scatterternary\": [{\"marker\": {\"colorbar\": {\"outlinewidth\": 0, \"ticks\": \"\"}}, \"type\": \"scatterternary\"}], \"surface\": [{\"colorbar\": {\"outlinewidth\": 0, \"ticks\": \"\"}, \"colorscale\": [[0.0, \"#0d0887\"], [0.1111111111111111, \"#46039f\"], [0.2222222222222222, \"#7201a8\"], [0.3333333333333333, \"#9c179e\"], [0.4444444444444444, \"#bd3786\"], [0.5555555555555556, \"#d8576b\"], [0.6666666666666666, \"#ed7953\"], [0.7777777777777778, \"#fb9f3a\"], [0.8888888888888888, \"#fdca26\"], [1.0, \"#f0f921\"]], \"type\": \"surface\"}], \"table\": [{\"cells\": {\"fill\": {\"color\": \"#EBF0F8\"}, \"line\": {\"color\": \"white\"}}, \"header\": {\"fill\": {\"color\": \"#C8D4E3\"}, \"line\": {\"color\": \"white\"}}, \"type\": \"table\"}]}, \"layout\": {\"annotationdefaults\": {\"arrowcolor\": \"#2a3f5f\", \"arrowhead\": 0, \"arrowwidth\": 1}, \"coloraxis\": {\"colorbar\": {\"outlinewidth\": 0, \"ticks\": \"\"}}, \"colorscale\": {\"diverging\": [[0, \"#8e0152\"], [0.1, \"#c51b7d\"], [0.2, \"#de77ae\"], [0.3, \"#f1b6da\"], [0.4, \"#fde0ef\"], [0.5, \"#f7f7f7\"], [0.6, \"#e6f5d0\"], [0.7, \"#b8e186\"], [0.8, \"#7fbc41\"], [0.9, \"#4d9221\"], [1, \"#276419\"]], \"sequential\": [[0.0, \"#0d0887\"], [0.1111111111111111, \"#46039f\"], [0.2222222222222222, \"#7201a8\"], [0.3333333333333333, \"#9c179e\"], [0.4444444444444444, \"#bd3786\"], [0.5555555555555556, \"#d8576b\"], [0.6666666666666666, \"#ed7953\"], [0.7777777777777778, \"#fb9f3a\"], [0.8888888888888888, \"#fdca26\"], [1.0, \"#f0f921\"]], \"sequentialminus\": [[0.0, \"#0d0887\"], [0.1111111111111111, \"#46039f\"], [0.2222222222222222, \"#7201a8\"], [0.3333333333333333, \"#9c179e\"], [0.4444444444444444, \"#bd3786\"], [0.5555555555555556, \"#d8576b\"], [0.6666666666666666, \"#ed7953\"], [0.7777777777777778, \"#fb9f3a\"], [0.8888888888888888, \"#fdca26\"], [1.0, \"#f0f921\"]]}, \"colorway\": [\"#636efa\", \"#EF553B\", \"#00cc96\", \"#ab63fa\", \"#FFA15A\", \"#19d3f3\", \"#FF6692\", \"#B6E880\", \"#FF97FF\", \"#FECB52\"], \"font\": {\"color\": \"#2a3f5f\"}, \"geo\": {\"bgcolor\": \"white\", \"lakecolor\": \"white\", \"landcolor\": \"#E5ECF6\", \"showlakes\": true, \"showland\": true, \"subunitcolor\": \"white\"}, \"hoverlabel\": {\"align\": \"left\"}, \"hovermode\": \"closest\", \"mapbox\": {\"style\": \"light\"}, \"paper_bgcolor\": \"white\", \"plot_bgcolor\": \"#E5ECF6\", \"polar\": {\"angularaxis\": {\"gridcolor\": \"white\", \"linecolor\": \"white\", \"ticks\": \"\"}, \"bgcolor\": \"#E5ECF6\", \"radialaxis\": {\"gridcolor\": \"white\", \"linecolor\": \"white\", \"ticks\": \"\"}}, \"scene\": {\"xaxis\": {\"backgroundcolor\": \"#E5ECF6\", \"gridcolor\": \"white\", \"gridwidth\": 2, \"linecolor\": \"white\", \"showbackground\": true, \"ticks\": \"\", \"zerolinecolor\": \"white\"}, \"yaxis\": {\"backgroundcolor\": \"#E5ECF6\", \"gridcolor\": \"white\", \"gridwidth\": 2, \"linecolor\": \"white\", \"showbackground\": true, \"ticks\": \"\", \"zerolinecolor\": \"white\"}, \"zaxis\": {\"backgroundcolor\": \"#E5ECF6\", \"gridcolor\": \"white\", \"gridwidth\": 2, \"linecolor\": \"white\", \"showbackground\": true, \"ticks\": \"\", \"zerolinecolor\": \"white\"}}, \"shapedefaults\": {\"line\": {\"color\": \"#2a3f5f\"}}, \"ternary\": {\"aaxis\": {\"gridcolor\": \"white\", \"linecolor\": \"white\", \"ticks\": \"\"}, \"baxis\": {\"gridcolor\": \"white\", \"linecolor\": \"white\", \"ticks\": \"\"}, \"bgcolor\": \"#E5ECF6\", \"caxis\": {\"gridcolor\": \"white\", \"linecolor\": \"white\", \"ticks\": \"\"}}, \"title\": {\"x\": 0.05}, \"xaxis\": {\"automargin\": true, \"gridcolor\": \"white\", \"linecolor\": \"white\", \"ticks\": \"\", \"title\": {\"standoff\": 15}, \"zerolinecolor\": \"white\", \"zerolinewidth\": 2}, \"yaxis\": {\"automargin\": true, \"gridcolor\": \"white\", \"linecolor\": \"white\", \"ticks\": \"\", \"title\": {\"standoff\": 15}, \"zerolinecolor\": \"white\", \"zerolinewidth\": 2}}}, \"title\": {\"text\": \"New cases of Continents\"}, \"xaxis\": {\"anchor\": \"y\", \"domain\": [0.0, 1.0], \"title\": {\"text\": \"New cases\"}}, \"yaxis\": {\"anchor\": \"x\", \"domain\": [0.0, 1.0], \"title\": {\"text\": \"y\"}}},\n",
              "                        {\"responsive\": true}\n",
              "                    ).then(function(){\n",
              "                            \n",
              "var gd = document.getElementById('50ca0d0b-1399-4358-accf-6f932dc22faa');\n",
              "var x = new MutationObserver(function (mutations, observer) {{\n",
              "        var display = window.getComputedStyle(gd).display;\n",
              "        if (!display || display === 'none') {{\n",
              "            console.log([gd, 'removed!']);\n",
              "            Plotly.purge(gd);\n",
              "            observer.disconnect();\n",
              "        }}\n",
              "}});\n",
              "\n",
              "// Listen for the removal of the full notebook cells\n",
              "var notebookContainer = gd.closest('#notebook-container');\n",
              "if (notebookContainer) {{\n",
              "    x.observe(notebookContainer, {childList: true});\n",
              "}}\n",
              "\n",
              "// Listen for the clearing of the current output cell\n",
              "var outputEl = gd.closest('.output');\n",
              "if (outputEl) {{\n",
              "    x.observe(outputEl, {childList: true});\n",
              "}}\n",
              "\n",
              "                        })\n",
              "                };\n",
              "                \n",
              "            </script>\n",
              "        </div>\n",
              "</body>\n",
              "</html>"
            ]
          },
          "metadata": {
            "tags": []
          }
        }
      ]
    },
    {
      "cell_type": "code",
      "metadata": {
        "colab": {
          "base_uri": "https://localhost:8080/",
          "height": 542
        },
        "id": "T3YNu2JofG7E",
        "outputId": "2ea187b5-6492-4069-be00-5d5e350d1121"
      },
      "source": [
        " #Show population of continents\n",
        "fig=px.bar(continentdf.sort_values('Population',ascending=False),x='Continent',y='Population',text='Population',title=' population of Countinents')\n",
        "fig.show()"
      ],
      "execution_count": null,
      "outputs": [
        {
          "output_type": "display_data",
          "data": {
            "text/html": [
              "<html>\n",
              "<head><meta charset=\"utf-8\" /></head>\n",
              "<body>\n",
              "    <div>\n",
              "            <script src=\"https://cdnjs.cloudflare.com/ajax/libs/mathjax/2.7.5/MathJax.js?config=TeX-AMS-MML_SVG\"></script><script type=\"text/javascript\">if (window.MathJax) {MathJax.Hub.Config({SVG: {font: \"STIX-Web\"}});}</script>\n",
              "                <script type=\"text/javascript\">window.PlotlyConfig = {MathJaxConfig: 'local'};</script>\n",
              "        <script src=\"https://cdn.plot.ly/plotly-latest.min.js\"></script>    \n",
              "            <div id=\"3a50b7c3-19fc-448c-b72b-8b829f06aadb\" class=\"plotly-graph-div\" style=\"height:525px; width:100%;\"></div>\n",
              "            <script type=\"text/javascript\">\n",
              "                \n",
              "                    window.PLOTLYENV=window.PLOTLYENV || {};\n",
              "                    \n",
              "                if (document.getElementById(\"3a50b7c3-19fc-448c-b72b-8b829f06aadb\")) {\n",
              "                    Plotly.newPlot(\n",
              "                        '3a50b7c3-19fc-448c-b72b-8b829f06aadb',\n",
              "                        [{\"alignmentgroup\": \"True\", \"hoverlabel\": {\"namelength\": 0}, \"hovertemplate\": \"Continent=%{x}<br>Population=%{text}\", \"legendgroup\": \"\", \"marker\": {\"color\": \"#636efa\"}, \"name\": \"\", \"offsetgroup\": \"\", \"orientation\": \"v\", \"showlegend\": false, \"text\": [4646181446.0, 1375189545.0, 748118744.0, 594102291.0, 434600584.0, 41426456.0], \"textposition\": \"auto\", \"type\": \"bar\", \"x\": [\"Asia\", \"Africa\", \"Europe\", \"North America\", \"South America\", \"Australia/Oceania\"], \"xaxis\": \"x\", \"y\": [4646181446, 1375189545, 748118744, 594102291, 434600584, 41426456], \"yaxis\": \"y\"}],\n",
              "                        {\"barmode\": \"relative\", \"legend\": {\"tracegroupgap\": 0}, \"template\": {\"data\": {\"bar\": [{\"error_x\": {\"color\": \"#2a3f5f\"}, \"error_y\": {\"color\": \"#2a3f5f\"}, \"marker\": {\"line\": {\"color\": \"#E5ECF6\", \"width\": 0.5}}, \"type\": \"bar\"}], \"barpolar\": [{\"marker\": {\"line\": {\"color\": \"#E5ECF6\", \"width\": 0.5}}, \"type\": \"barpolar\"}], \"carpet\": [{\"aaxis\": {\"endlinecolor\": \"#2a3f5f\", \"gridcolor\": \"white\", \"linecolor\": \"white\", \"minorgridcolor\": \"white\", \"startlinecolor\": \"#2a3f5f\"}, \"baxis\": {\"endlinecolor\": \"#2a3f5f\", \"gridcolor\": \"white\", \"linecolor\": \"white\", \"minorgridcolor\": \"white\", \"startlinecolor\": \"#2a3f5f\"}, \"type\": \"carpet\"}], \"choropleth\": [{\"colorbar\": {\"outlinewidth\": 0, \"ticks\": \"\"}, \"type\": \"choropleth\"}], \"contour\": [{\"colorbar\": {\"outlinewidth\": 0, \"ticks\": \"\"}, \"colorscale\": [[0.0, \"#0d0887\"], [0.1111111111111111, \"#46039f\"], [0.2222222222222222, \"#7201a8\"], [0.3333333333333333, \"#9c179e\"], [0.4444444444444444, \"#bd3786\"], [0.5555555555555556, \"#d8576b\"], [0.6666666666666666, \"#ed7953\"], [0.7777777777777778, \"#fb9f3a\"], [0.8888888888888888, \"#fdca26\"], [1.0, \"#f0f921\"]], \"type\": \"contour\"}], \"contourcarpet\": [{\"colorbar\": {\"outlinewidth\": 0, \"ticks\": \"\"}, \"type\": \"contourcarpet\"}], \"heatmap\": [{\"colorbar\": {\"outlinewidth\": 0, \"ticks\": \"\"}, \"colorscale\": [[0.0, \"#0d0887\"], [0.1111111111111111, \"#46039f\"], [0.2222222222222222, \"#7201a8\"], [0.3333333333333333, \"#9c179e\"], [0.4444444444444444, \"#bd3786\"], [0.5555555555555556, \"#d8576b\"], [0.6666666666666666, \"#ed7953\"], [0.7777777777777778, \"#fb9f3a\"], [0.8888888888888888, \"#fdca26\"], [1.0, \"#f0f921\"]], \"type\": \"heatmap\"}], \"heatmapgl\": [{\"colorbar\": {\"outlinewidth\": 0, \"ticks\": \"\"}, \"colorscale\": [[0.0, \"#0d0887\"], [0.1111111111111111, \"#46039f\"], [0.2222222222222222, \"#7201a8\"], [0.3333333333333333, \"#9c179e\"], [0.4444444444444444, \"#bd3786\"], [0.5555555555555556, \"#d8576b\"], [0.6666666666666666, \"#ed7953\"], [0.7777777777777778, \"#fb9f3a\"], [0.8888888888888888, \"#fdca26\"], [1.0, \"#f0f921\"]], \"type\": \"heatmapgl\"}], \"histogram\": [{\"marker\": {\"colorbar\": {\"outlinewidth\": 0, \"ticks\": \"\"}}, \"type\": \"histogram\"}], \"histogram2d\": [{\"colorbar\": {\"outlinewidth\": 0, \"ticks\": \"\"}, \"colorscale\": [[0.0, \"#0d0887\"], [0.1111111111111111, \"#46039f\"], [0.2222222222222222, \"#7201a8\"], [0.3333333333333333, \"#9c179e\"], [0.4444444444444444, \"#bd3786\"], [0.5555555555555556, \"#d8576b\"], [0.6666666666666666, \"#ed7953\"], [0.7777777777777778, \"#fb9f3a\"], [0.8888888888888888, \"#fdca26\"], [1.0, \"#f0f921\"]], \"type\": \"histogram2d\"}], \"histogram2dcontour\": [{\"colorbar\": {\"outlinewidth\": 0, \"ticks\": \"\"}, \"colorscale\": [[0.0, \"#0d0887\"], [0.1111111111111111, \"#46039f\"], [0.2222222222222222, \"#7201a8\"], [0.3333333333333333, \"#9c179e\"], [0.4444444444444444, \"#bd3786\"], [0.5555555555555556, \"#d8576b\"], [0.6666666666666666, \"#ed7953\"], [0.7777777777777778, \"#fb9f3a\"], [0.8888888888888888, \"#fdca26\"], [1.0, \"#f0f921\"]], \"type\": \"histogram2dcontour\"}], \"mesh3d\": [{\"colorbar\": {\"outlinewidth\": 0, \"ticks\": \"\"}, \"type\": \"mesh3d\"}], \"parcoords\": [{\"line\": {\"colorbar\": {\"outlinewidth\": 0, \"ticks\": \"\"}}, \"type\": \"parcoords\"}], \"pie\": [{\"automargin\": true, \"type\": \"pie\"}], \"scatter\": [{\"marker\": {\"colorbar\": {\"outlinewidth\": 0, \"ticks\": \"\"}}, \"type\": \"scatter\"}], \"scatter3d\": [{\"line\": {\"colorbar\": {\"outlinewidth\": 0, \"ticks\": \"\"}}, \"marker\": {\"colorbar\": {\"outlinewidth\": 0, \"ticks\": \"\"}}, \"type\": \"scatter3d\"}], \"scattercarpet\": [{\"marker\": {\"colorbar\": {\"outlinewidth\": 0, \"ticks\": \"\"}}, \"type\": \"scattercarpet\"}], \"scattergeo\": [{\"marker\": {\"colorbar\": {\"outlinewidth\": 0, \"ticks\": \"\"}}, \"type\": \"scattergeo\"}], \"scattergl\": [{\"marker\": {\"colorbar\": {\"outlinewidth\": 0, \"ticks\": \"\"}}, \"type\": \"scattergl\"}], \"scattermapbox\": [{\"marker\": {\"colorbar\": {\"outlinewidth\": 0, \"ticks\": \"\"}}, \"type\": \"scattermapbox\"}], \"scatterpolar\": [{\"marker\": {\"colorbar\": {\"outlinewidth\": 0, \"ticks\": \"\"}}, \"type\": \"scatterpolar\"}], \"scatterpolargl\": [{\"marker\": {\"colorbar\": {\"outlinewidth\": 0, \"ticks\": \"\"}}, \"type\": \"scatterpolargl\"}], \"scatterternary\": [{\"marker\": {\"colorbar\": {\"outlinewidth\": 0, \"ticks\": \"\"}}, \"type\": \"scatterternary\"}], \"surface\": [{\"colorbar\": {\"outlinewidth\": 0, \"ticks\": \"\"}, \"colorscale\": [[0.0, \"#0d0887\"], [0.1111111111111111, \"#46039f\"], [0.2222222222222222, \"#7201a8\"], [0.3333333333333333, \"#9c179e\"], [0.4444444444444444, \"#bd3786\"], [0.5555555555555556, \"#d8576b\"], [0.6666666666666666, \"#ed7953\"], [0.7777777777777778, \"#fb9f3a\"], [0.8888888888888888, \"#fdca26\"], [1.0, \"#f0f921\"]], \"type\": \"surface\"}], \"table\": [{\"cells\": {\"fill\": {\"color\": \"#EBF0F8\"}, \"line\": {\"color\": \"white\"}}, \"header\": {\"fill\": {\"color\": \"#C8D4E3\"}, \"line\": {\"color\": \"white\"}}, \"type\": \"table\"}]}, \"layout\": {\"annotationdefaults\": {\"arrowcolor\": \"#2a3f5f\", \"arrowhead\": 0, \"arrowwidth\": 1}, \"coloraxis\": {\"colorbar\": {\"outlinewidth\": 0, \"ticks\": \"\"}}, \"colorscale\": {\"diverging\": [[0, \"#8e0152\"], [0.1, \"#c51b7d\"], [0.2, \"#de77ae\"], [0.3, \"#f1b6da\"], [0.4, \"#fde0ef\"], [0.5, \"#f7f7f7\"], [0.6, \"#e6f5d0\"], [0.7, \"#b8e186\"], [0.8, \"#7fbc41\"], [0.9, \"#4d9221\"], [1, \"#276419\"]], \"sequential\": [[0.0, \"#0d0887\"], [0.1111111111111111, \"#46039f\"], [0.2222222222222222, \"#7201a8\"], [0.3333333333333333, \"#9c179e\"], [0.4444444444444444, \"#bd3786\"], [0.5555555555555556, \"#d8576b\"], [0.6666666666666666, \"#ed7953\"], [0.7777777777777778, \"#fb9f3a\"], [0.8888888888888888, \"#fdca26\"], [1.0, \"#f0f921\"]], \"sequentialminus\": [[0.0, \"#0d0887\"], [0.1111111111111111, \"#46039f\"], [0.2222222222222222, \"#7201a8\"], [0.3333333333333333, \"#9c179e\"], [0.4444444444444444, \"#bd3786\"], [0.5555555555555556, \"#d8576b\"], [0.6666666666666666, \"#ed7953\"], [0.7777777777777778, \"#fb9f3a\"], [0.8888888888888888, \"#fdca26\"], [1.0, \"#f0f921\"]]}, \"colorway\": [\"#636efa\", \"#EF553B\", \"#00cc96\", \"#ab63fa\", \"#FFA15A\", \"#19d3f3\", \"#FF6692\", \"#B6E880\", \"#FF97FF\", \"#FECB52\"], \"font\": {\"color\": \"#2a3f5f\"}, \"geo\": {\"bgcolor\": \"white\", \"lakecolor\": \"white\", \"landcolor\": \"#E5ECF6\", \"showlakes\": true, \"showland\": true, \"subunitcolor\": \"white\"}, \"hoverlabel\": {\"align\": \"left\"}, \"hovermode\": \"closest\", \"mapbox\": {\"style\": \"light\"}, \"paper_bgcolor\": \"white\", \"plot_bgcolor\": \"#E5ECF6\", \"polar\": {\"angularaxis\": {\"gridcolor\": \"white\", \"linecolor\": \"white\", \"ticks\": \"\"}, \"bgcolor\": \"#E5ECF6\", \"radialaxis\": {\"gridcolor\": \"white\", \"linecolor\": \"white\", \"ticks\": \"\"}}, \"scene\": {\"xaxis\": {\"backgroundcolor\": \"#E5ECF6\", \"gridcolor\": \"white\", \"gridwidth\": 2, \"linecolor\": \"white\", \"showbackground\": true, \"ticks\": \"\", \"zerolinecolor\": \"white\"}, \"yaxis\": {\"backgroundcolor\": \"#E5ECF6\", \"gridcolor\": \"white\", \"gridwidth\": 2, \"linecolor\": \"white\", \"showbackground\": true, \"ticks\": \"\", \"zerolinecolor\": \"white\"}, \"zaxis\": {\"backgroundcolor\": \"#E5ECF6\", \"gridcolor\": \"white\", \"gridwidth\": 2, \"linecolor\": \"white\", \"showbackground\": true, \"ticks\": \"\", \"zerolinecolor\": \"white\"}}, \"shapedefaults\": {\"line\": {\"color\": \"#2a3f5f\"}}, \"ternary\": {\"aaxis\": {\"gridcolor\": \"white\", \"linecolor\": \"white\", \"ticks\": \"\"}, \"baxis\": {\"gridcolor\": \"white\", \"linecolor\": \"white\", \"ticks\": \"\"}, \"bgcolor\": \"#E5ECF6\", \"caxis\": {\"gridcolor\": \"white\", \"linecolor\": \"white\", \"ticks\": \"\"}}, \"title\": {\"x\": 0.05}, \"xaxis\": {\"automargin\": true, \"gridcolor\": \"white\", \"linecolor\": \"white\", \"ticks\": \"\", \"title\": {\"standoff\": 15}, \"zerolinecolor\": \"white\", \"zerolinewidth\": 2}, \"yaxis\": {\"automargin\": true, \"gridcolor\": \"white\", \"linecolor\": \"white\", \"ticks\": \"\", \"title\": {\"standoff\": 15}, \"zerolinecolor\": \"white\", \"zerolinewidth\": 2}}}, \"title\": {\"text\": \" population of Countinents\"}, \"xaxis\": {\"anchor\": \"y\", \"domain\": [0.0, 1.0], \"title\": {\"text\": \"Continent\"}}, \"yaxis\": {\"anchor\": \"x\", \"domain\": [0.0, 1.0], \"title\": {\"text\": \"Population\"}}},\n",
              "                        {\"responsive\": true}\n",
              "                    ).then(function(){\n",
              "                            \n",
              "var gd = document.getElementById('3a50b7c3-19fc-448c-b72b-8b829f06aadb');\n",
              "var x = new MutationObserver(function (mutations, observer) {{\n",
              "        var display = window.getComputedStyle(gd).display;\n",
              "        if (!display || display === 'none') {{\n",
              "            console.log([gd, 'removed!']);\n",
              "            Plotly.purge(gd);\n",
              "            observer.disconnect();\n",
              "        }}\n",
              "}});\n",
              "\n",
              "// Listen for the removal of the full notebook cells\n",
              "var notebookContainer = gd.closest('#notebook-container');\n",
              "if (notebookContainer) {{\n",
              "    x.observe(notebookContainer, {childList: true});\n",
              "}}\n",
              "\n",
              "// Listen for the clearing of the current output cell\n",
              "var outputEl = gd.closest('.output');\n",
              "if (outputEl) {{\n",
              "    x.observe(outputEl, {childList: true});\n",
              "}}\n",
              "\n",
              "                        })\n",
              "                };\n",
              "                \n",
              "            </script>\n",
              "        </div>\n",
              "</body>\n",
              "</html>"
            ]
          },
          "metadata": {
            "tags": []
          }
        }
      ]
    },
    {
      "cell_type": "code",
      "metadata": {
        "colab": {
          "base_uri": "https://localhost:8080/",
          "height": 449
        },
        "id": "7JVCyAE_0ERs",
        "outputId": "d658a05a-750c-449b-b2e3-2402d6e3634a"
      },
      "source": [
        " #Comparison between population and total cases ofcontinents\n",
        " fig,(px1,px2)=plt.subplots(nrows=1,ncols=2,figsize=(18,7))\n",
        " px1.set_title('Continent-wise Population',fontsize=20)\n",
        " px1.bar(x=continentdf['Continent'],height=continentdf['Population'],facecolor='r',alpha=0.75)\n",
        " px1.set_ylabel(\"Population\",fontsize=15)\n",
        " px2.bar(x=continentdf['Continent'],height=continentdf['Total tests'],facecolor='g',alpha=0.75)\n",
        " px2.set_ylabel(\"Total cases\",fontsize=15)\n",
        " px2.set_title('Continent-wise Total test',fontsize=20)\n",
        "fig.show()\n"
      ],
      "execution_count": null,
      "outputs": [
        {
          "output_type": "display_data",
          "data": {
            "image/png": "[encoded data removed]",
            "text/plain": [
              "<Figure size 1296x504 with 2 Axes>"
            ]
          },
          "metadata": {
            "tags": [],
            "needs_background": "light"
          }
        }
      ]
    }
  ]
}